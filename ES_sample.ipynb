{
  "nbformat": 4,
  "nbformat_minor": 0,
  "metadata": {
    "colab": {
      "name": "ES_sample.ipynb",
      "provenance": [],
      "authorship_tag": "ABX9TyMSz18Ngv5QHqrevmu9tWyt",
      "include_colab_link": true
    },
    "kernelspec": {
      "name": "python3",
      "display_name": "Python 3"
    }
  },
  "cells": [
    {
      "cell_type": "markdown",
      "metadata": {
        "id": "view-in-github",
        "colab_type": "text"
      },
      "source": [
        "<a href=\"https://colab.research.google.com/github/skozh/RL/blob/master/ES_sample.ipynb\" target=\"_parent\"><img src=\"https://colab.research.google.com/assets/colab-badge.svg\" alt=\"Open In Colab\"/></a>"
      ]
    },
    {
      "cell_type": "code",
      "metadata": {
        "id": "tZRjExfZLNXM",
        "colab_type": "code",
        "colab": {}
      },
      "source": [
        "# Simple example: Minimize a quadratic around some solution point\n",
        "# Code from https://gist.github.com/karpathy/77fbb6a8dac5395f1b73e7a89300318d\n",
        "# Explanation at https://openai.com/blog/evolution-strategies/\n",
        "import numpy as np"
      ],
      "execution_count": 1,
      "outputs": []
    },
    {
      "cell_type": "code",
      "metadata": {
        "id": "2gnd1-uKLZLc",
        "colab_type": "code",
        "colab": {}
      },
      "source": [
        "solution = np.array([0.5, 0.1, -0.3])"
      ],
      "execution_count": 2,
      "outputs": []
    },
    {
      "cell_type": "code",
      "metadata": {
        "id": "e6ru95BSLhNj",
        "colab_type": "code",
        "colab": {}
      },
      "source": [
        "def fun(w):\n",
        "  return -np.sum((w - solution)**2)"
      ],
      "execution_count": 3,
      "outputs": []
    },
    {
      "cell_type": "code",
      "metadata": {
        "id": "u24poTP5MfGY",
        "colab_type": "code",
        "colab": {}
      },
      "source": [
        "npop = 50                                # population size\n",
        "sigma = 0.1                             # noise standard deviation\n",
        "alpha = 0.001                         # learning rate\n",
        "w = np.random.randn(3)    # Initial guess (random)"
      ],
      "execution_count": 4,
      "outputs": []
    },
    {
      "cell_type": "code",
      "metadata": {
        "id": "2wBNvy3aLqBB",
        "colab_type": "code",
        "colab": {
          "base_uri": "https://localhost:8080/",
          "height": 119
        },
        "outputId": "ec4ea87a-033a-47b0-91db-320adf46925d"
      },
      "source": [
        "for i in range(300):\n",
        "  N = np.random.randn(npop, 3)                                  # Random noise initialization\n",
        "  R = np.zeros(npop)                                                        # Reward initialization\n",
        "  for j in range(npop):\n",
        "    w_try = w + sigma* N[j]                                              # Add noise to the guessed parameter\n",
        "    R[j] = fun(w_try)\n",
        "  if i % 50 == 0:\n",
        "    print ('iter %d. w: %s, solution: %s, reward: %s' % \n",
        "           (i, str(w), str(solution), str(fun(w))))\n",
        "  A = (R - np.mean(R))/np.std(R)                                    # Standardize Rewards to Gaussian Distribution\n",
        "  w = w + alpha/(npop * sigma) * np.dot(N.T, A)      # Update Parameter. "
      ],
      "execution_count": 5,
      "outputs": [
        {
          "output_type": "stream",
          "text": [
            "iter 0. w: [-0.09706066 -0.66642031  0.56226398], solution: [ 0.5  0.1 -0.3], reward: -1.6873806861048783\n",
            "iter 50. w: [ 0.13016351 -0.36686387  0.23463083], solution: [ 0.5  0.1 -0.3], reward: -0.6405710198785806\n",
            "iter 100. w: [ 0.34605869 -0.09086411 -0.08780975], solution: [ 0.5  0.1 -0.3], reward: -0.10515173535606477\n",
            "iter 150. w: [ 0.4822386   0.08484504 -0.29531559], solution: [ 0.5  0.1 -0.3], reward: -0.0005670837761888932\n",
            "iter 200. w: [ 0.49438263  0.09942668 -0.30377657], solution: [ 0.5  0.1 -0.3], reward: -4.6146030478698655e-05\n",
            "iter 250. w: [ 0.50635328  0.0968545  -0.29983505], solution: [ 0.5  0.1 -0.3], reward: -5.0285538221981195e-05\n"
          ],
          "name": "stdout"
        }
      ]
    },
    {
      "cell_type": "code",
      "metadata": {
        "id": "p80SrT9oOVr2",
        "colab_type": "code",
        "colab": {
          "base_uri": "https://localhost:8080/",
          "height": 34
        },
        "outputId": "1ab93603-eb8c-4bc1-91d8-10e003a2594b"
      },
      "source": [
        "w"
      ],
      "execution_count": 6,
      "outputs": [
        {
          "output_type": "execute_result",
          "data": {
            "text/plain": [
              "array([ 0.50112319,  0.09715664, -0.30218905])"
            ]
          },
          "metadata": {
            "tags": []
          },
          "execution_count": 6
        }
      ]
    }
  ]
}