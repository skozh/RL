{
  "nbformat": 4,
  "nbformat_minor": 0,
  "metadata": {
    "colab": {
      "name": "ES_sample.ipynb",
      "provenance": [],
      "authorship_tag": "ABX9TyN2bI9l3qpctakV70hlvqu2",
      "include_colab_link": true
    },
    "kernelspec": {
      "name": "python3",
      "display_name": "Python 3"
    }
  },
  "cells": [
    {
      "cell_type": "markdown",
      "metadata": {
        "id": "view-in-github",
        "colab_type": "text"
      },
      "source": [
        "<a href=\"https://colab.research.google.com/github/skozh/RL/blob/master/ES_sample.ipynb\" target=\"_parent\"><img src=\"https://colab.research.google.com/assets/colab-badge.svg\" alt=\"Open In Colab\"/></a>"
      ]
    },
    {
      "cell_type": "code",
      "metadata": {
        "id": "tZRjExfZLNXM",
        "colab_type": "code",
        "colab": {}
      },
      "source": [
        "# Simple example: Minimize a quadratic around some solution point\n",
        "# Code from https://gist.github.com/karpathy/77fbb6a8dac5395f1b73e7a89300318d\n",
        "# Explanation at https://openai.com/blog/evolution-strategies/\n",
        "import numpy as np"
      ],
      "execution_count": 1,
      "outputs": []
    },
    {
      "cell_type": "code",
      "metadata": {
        "id": "2gnd1-uKLZLc",
        "colab_type": "code",
        "colab": {}
      },
      "source": [
        "solution = np.array([0.5, 0.1, -0.3])"
      ],
      "execution_count": 2,
      "outputs": []
    },
    {
      "cell_type": "code",
      "metadata": {
        "id": "e6ru95BSLhNj",
        "colab_type": "code",
        "colab": {}
      },
      "source": [
        "def fun(w):\n",
        "  return -np.sum((w - solution)**2)"
      ],
      "execution_count": 3,
      "outputs": []
    },
    {
      "cell_type": "code",
      "metadata": {
        "id": "u24poTP5MfGY",
        "colab_type": "code",
        "colab": {}
      },
      "source": [
        "npop = 50                                # population size\n",
        "sigma = 0.1                             # noise standard deviation\n",
        "alpha = 0.001                         # learning rate\n",
        "w = np.random.randn(3)    # Initial guess (random)"
      ],
      "execution_count": 4,
      "outputs": []
    },
    {
      "cell_type": "code",
      "metadata": {
        "id": "2wBNvy3aLqBB",
        "colab_type": "code",
        "colab": {
          "base_uri": "https://localhost:8080/",
          "height": 119
        },
        "outputId": "7188196a-e0c4-4019-8bdd-e4c5561e64f5"
      },
      "source": [
        "for i in range(300):\n",
        "  N = np.random.randn(npop, 3)                                  # Random noise initialization\n",
        "  R = np.zeros(npop)                                                        # Reward initialization\n",
        "  for j in range(npop):\n",
        "    w_try = w + sigma* N[j]                                              # Add noise to the guessed parameter\n",
        "    R[j] = fun(w_try)\n",
        "  if i % 50 == 0:\n",
        "    print ('iter %d. w: %s, solution: %s, reward: %f' % \n",
        "           (i, str(w), str(solution), R[j]))\n",
        "  A = (R - np.mean(R))/np.std(R)                                    # Standardize Rewards to Gaussian Distribution\n",
        "  w = w + alpha/(npop * sigma) * np.dot(N.T, A)      # Update Parameter. "
      ],
      "execution_count": 5,
      "outputs": [
        {
          "output_type": "stream",
          "text": [
            "iter 0. w: [ 0.35219536 -0.01436819 -0.70463822], solution: [ 0.5  0.1 -0.3], reward: -0.328839\n",
            "iter 50. w: [ 0.49516293  0.08896741 -0.34004539], solution: [ 0.5  0.1 -0.3], reward: -0.032393\n",
            "iter 100. w: [ 0.50034543  0.10111892 -0.30188364], solution: [ 0.5  0.1 -0.3], reward: -0.088718\n",
            "iter 150. w: [ 0.50226112  0.09958874 -0.30119221], solution: [ 0.5  0.1 -0.3], reward: -0.049371\n",
            "iter 200. w: [ 0.50394589  0.09434979 -0.2976531 ], solution: [ 0.5  0.1 -0.3], reward: -0.032263\n",
            "iter 250. w: [ 0.50237112  0.09294307 -0.30613214], solution: [ 0.5  0.1 -0.3], reward: -0.006015\n"
          ],
          "name": "stdout"
        }
      ]
    },
    {
      "cell_type": "code",
      "metadata": {
        "id": "p80SrT9oOVr2",
        "colab_type": "code",
        "colab": {
          "base_uri": "https://localhost:8080/",
          "height": 34
        },
        "outputId": "7aab12e4-5dad-4b69-b8ac-81252e9091a6"
      },
      "source": [
        "w"
      ],
      "execution_count": 6,
      "outputs": [
        {
          "output_type": "execute_result",
          "data": {
            "text/plain": [
              "array([ 0.5105021 ,  0.09298527, -0.29661409])"
            ]
          },
          "metadata": {
            "tags": []
          },
          "execution_count": 6
        }
      ]
    }
  ]
}