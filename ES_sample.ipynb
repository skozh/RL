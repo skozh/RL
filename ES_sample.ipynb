{
  "nbformat": 4,
  "nbformat_minor": 0,
  "metadata": {
    "colab": {
      "name": "ES_sample.ipynb",
      "provenance": [],
      "authorship_tag": "ABX9TyNX1GYr5xW+OLIMy2sZ/ZmA",
      "include_colab_link": true
    },
    "kernelspec": {
      "name": "python3",
      "display_name": "Python 3"
    }
  },
  "cells": [
    {
      "cell_type": "markdown",
      "metadata": {
        "id": "view-in-github",
        "colab_type": "text"
      },
      "source": [
        "<a href=\"https://colab.research.google.com/github/skozh/RL/blob/master/ES_sample.ipynb\" target=\"_parent\"><img src=\"https://colab.research.google.com/assets/colab-badge.svg\" alt=\"Open In Colab\"/></a>"
      ]
    },
    {
      "cell_type": "code",
      "metadata": {
        "id": "tZRjExfZLNXM",
        "colab_type": "code",
        "colab": {}
      },
      "source": [
        "# Simple example: Minimize a quadratic around some solution point\n",
        "# Code from https://gist.github.com/karpathy/77fbb6a8dac5395f1b73e7a89300318d\n",
        "# Explanation at https://openai.com/blog/evolution-strategies/\n",
        "import numpy as np"
      ],
      "execution_count": 1,
      "outputs": []
    },
    {
      "cell_type": "code",
      "metadata": {
        "id": "2gnd1-uKLZLc",
        "colab_type": "code",
        "colab": {}
      },
      "source": [
        "solution = np.array([0.5, 0.1, -0.3])"
      ],
      "execution_count": 2,
      "outputs": []
    },
    {
      "cell_type": "code",
      "metadata": {
        "id": "e6ru95BSLhNj",
        "colab_type": "code",
        "colab": {}
      },
      "source": [
        "def fun(w):\n",
        "  return -np.sum((w - solution)**2)"
      ],
      "execution_count": 3,
      "outputs": []
    },
    {
      "cell_type": "code",
      "metadata": {
        "id": "u24poTP5MfGY",
        "colab_type": "code",
        "colab": {}
      },
      "source": [
        "npop = 50                                # population size\n",
        "sigma = 0.1                             # noise standard deviation\n",
        "alpha = 0.001                         # learning rate\n",
        "w = np.random.randn(3)    # Random Action Initialization"
      ],
      "execution_count": 4,
      "outputs": []
    },
    {
      "cell_type": "code",
      "metadata": {
        "id": "2wBNvy3aLqBB",
        "colab_type": "code",
        "colab": {}
      },
      "source": [
        "for i in range(300):\n",
        "  N = np.random.randn(npop, 3)                                  # Random Noise Initialization\n",
        "  R = np.zeros(npop)                                                        # Reward Initialization\n",
        "  for j in range(npop):\n",
        "    w_try = w + sigma* N[j]                                              # Add noise to Action\n",
        "    R[j] = fun(w_try)\n",
        "  A = (R - np.mean(R))/np.std(R)                                    # Standardize Rewards to Gaaussian Distribution\n",
        "  w = w + alpha/(npop * sigma) * np.dot(N.T, A)      # Update Action"
      ],
      "execution_count": 5,
      "outputs": []
    },
    {
      "cell_type": "code",
      "metadata": {
        "id": "p80SrT9oOVr2",
        "colab_type": "code",
        "colab": {
          "base_uri": "https://localhost:8080/",
          "height": 34
        },
        "outputId": "09a26685-62a3-47f7-e566-ccf898bcbd55"
      },
      "source": [
        "w"
      ],
      "execution_count": 6,
      "outputs": [
        {
          "output_type": "execute_result",
          "data": {
            "text/plain": [
              "array([ 0.49887636,  0.11069418, -0.29124076])"
            ]
          },
          "metadata": {
            "tags": []
          },
          "execution_count": 6
        }
      ]
    }
  ]
}