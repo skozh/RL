{
  "nbformat": 4,
  "nbformat_minor": 0,
  "metadata": {
    "colab": {
      "name": "recap_tensorflow.ipynb",
      "provenance": [],
      "include_colab_link": true
    },
    "kernelspec": {
      "name": "python3",
      "display_name": "Python 3"
    }
  },
  "cells": [
    {
      "cell_type": "markdown",
      "metadata": {
        "id": "view-in-github",
        "colab_type": "text"
      },
      "source": [
        "<a href=\"https://colab.research.google.com/github/skozh/RL/blob/master/recap_tensorflow.ipynb\" target=\"_parent\"><img src=\"https://colab.research.google.com/assets/colab-badge.svg\" alt=\"Open In Colab\"/></a>"
      ]
    },
    {
      "cell_type": "markdown",
      "metadata": {
        "id": "KFs0LD9d0UUs",
        "colab_type": "text"
      },
      "source": [
        "# Down the rabbit hole with Tensorflow\n",
        "\n",
        "![img](https://lh3.googleusercontent.com/I1Dpp7I9RZIGl0rVMlPfnhfl-bkl_2uDHZwVC87BWmqtPaAs1irMWOdJxTmTEQJB-VGfLryCyHxqvyNchVIVLL-vqGrF3Q=s688)\n",
        "\n",
        "In this seminar, we're going to play with [Tensorflow](https://www.tensorflow.org/) and see how it helps you build deep learning models.\n",
        "\n",
        "If you're running this notebook outside the course environment, you'll need to install tensorflow:\n",
        "* `pip install tensorflow` should install cpu-only TF on Linux & Mac OS\n",
        "* If you want GPU support from offset, see [TF install page](https://www.tensorflow.org/install/)"
      ]
    },
    {
      "cell_type": "code",
      "metadata": {
        "id": "ULJYn0MQ0UUx",
        "colab_type": "code",
        "colab": {
          "base_uri": "https://localhost:8080/",
          "height": 153
        },
        "outputId": "ab82914e-ed46-44eb-ada6-3974c7fc1f21"
      },
      "source": [
        "import sys, os\n",
        "if 'google.colab' in sys.modules and not os.path.exists('.setup_complete'):\n",
        "    %tensorflow_version 1.x\n",
        "    \n",
        "    if not os.path.exists('.setup_complete'):\n",
        "        !wget -q https://raw.githubusercontent.com/yandexdataschool/Practical_RL/spring20/setup_colab.sh -O- | bash\n",
        "\n",
        "        !wget -q https://raw.githubusercontent.com/yandexdataschool/Practical_RL/coursera/week1_intro/primer/mnist.py\n",
        "\n",
        "        !touch .setup_complete\n",
        "\n",
        "# This code creates a virtual display to draw game images on.\n",
        "# It will have no effect if your machine has a monitor.\n",
        "if type(os.environ.get(\"DISPLAY\")) is not str or len(os.environ.get(\"DISPLAY\")) == 0:\n",
        "    !bash ../xvfb start\n",
        "    os.environ['DISPLAY'] = ':1'"
      ],
      "execution_count": 1,
      "outputs": [
        {
          "output_type": "stream",
          "text": [
            "TensorFlow 1.x selected.\n",
            "Selecting previously unselected package xvfb.\n",
            "(Reading database ... 144379 files and directories currently installed.)\n",
            "Preparing to unpack .../xvfb_2%3a1.19.6-1ubuntu4.4_amd64.deb ...\n",
            "Unpacking xvfb (2:1.19.6-1ubuntu4.4) ...\n",
            "Setting up xvfb (2:1.19.6-1ubuntu4.4) ...\n",
            "Processing triggers for man-db (2.8.3-2ubuntu0.1) ...\n",
            "Starting virtual X frame buffer: Xvfb.\n"
          ],
          "name": "stdout"
        }
      ]
    },
    {
      "cell_type": "code",
      "metadata": {
        "id": "bI_vKu500UVI",
        "colab_type": "code",
        "colab": {}
      },
      "source": [
        "import numpy as np\n",
        "import matplotlib.pyplot as plt\n",
        "%matplotlib inline"
      ],
      "execution_count": 2,
      "outputs": []
    },
    {
      "cell_type": "code",
      "metadata": {
        "id": "zxjk63Qm0UVP",
        "colab_type": "code",
        "colab": {}
      },
      "source": [
        "import tensorflow as tf\n",
        "\n",
        "# session is main tensorflow object. You ask session to compute stuff for you.\n",
        "sess = tf.InteractiveSession()"
      ],
      "execution_count": 3,
      "outputs": []
    },
    {
      "cell_type": "markdown",
      "metadata": {
        "id": "-QlGVqn90UVb",
        "colab_type": "text"
      },
      "source": [
        "# Warming up\n",
        "For starters, let's implement a python function that computes the sum of squares of numbers from 0 to N-1.\n",
        "* Use numpy or python\n",
        "* An array of numbers 0 to N - numpy.arange(N)"
      ]
    },
    {
      "cell_type": "code",
      "metadata": {
        "id": "sVej9TOC0UVd",
        "colab_type": "code",
        "colab": {}
      },
      "source": [
        "def sum_squares(N):\n",
        "    return np.sum(np.square(np.arange(N)))"
      ],
      "execution_count": null,
      "outputs": []
    },
    {
      "cell_type": "code",
      "metadata": {
        "id": "yQydRIB90UVs",
        "colab_type": "code",
        "colab": {
          "base_uri": "https://localhost:8080/",
          "height": 68
        },
        "outputId": "fe40b089-a7e0-434b-ee26-bab5e700747e"
      },
      "source": [
        "%%time\n",
        "sum_squares(10**8)"
      ],
      "execution_count": null,
      "outputs": [
        {
          "output_type": "stream",
          "text": [
            "CPU times: user 326 ms, sys: 718 ms, total: 1.04 s\n",
            "Wall time: 1.05 s\n"
          ],
          "name": "stdout"
        },
        {
          "output_type": "execute_result",
          "data": {
            "text/plain": [
              "662921401752298880"
            ]
          },
          "metadata": {
            "tags": []
          },
          "execution_count": 5
        }
      ]
    },
    {
      "cell_type": "markdown",
      "metadata": {
        "id": "70ZYewg80UV1",
        "colab_type": "text"
      },
      "source": [
        "__Same with tensorflow__"
      ]
    },
    {
      "cell_type": "code",
      "metadata": {
        "id": "o7i8G7EI0UV3",
        "colab_type": "code",
        "colab": {}
      },
      "source": [
        "# \"i will insert N here later\"\n",
        "N = tf.placeholder('int64', name=\"input_to_your_function\")\n",
        "\n",
        "# a recipe on how to produce {sum of squares of arange of N} given N\n",
        "result = tf.reduce_sum((tf.range(N)**2))"
      ],
      "execution_count": null,
      "outputs": []
    },
    {
      "cell_type": "code",
      "metadata": {
        "id": "fmCDyMzN0UV8",
        "colab_type": "code",
        "colab": {
          "base_uri": "https://localhost:8080/",
          "height": 68
        },
        "outputId": "ebef9a9b-746f-4118-ee4c-774cb8632b1a"
      },
      "source": [
        "%%time\n",
        "\n",
        "# dear session, compute the result please. Here's your N.\n",
        "print(sess.run(result, {N: 10**8}))\n",
        "\n",
        "# hint: run it several times to let tensorflow \"warm up\""
      ],
      "execution_count": null,
      "outputs": [
        {
          "output_type": "stream",
          "text": [
            "662921401752298880\n",
            "CPU times: user 530 ms, sys: 3.48 ms, total: 533 ms\n",
            "Wall time: 396 ms\n"
          ],
          "name": "stdout"
        }
      ]
    },
    {
      "cell_type": "markdown",
      "metadata": {
        "id": "WDhfN0-30UWD",
        "colab_type": "text"
      },
      "source": [
        "# How it works: computation graphs\n",
        "\n",
        "\n",
        "1. create placeholders for future inputs;\n",
        "2. define symbolic graph: a recipe for mathematical transformation of those placeholders;\n",
        "3. compute outputs of your graph with particular values for each placeholder\n",
        "  * ```sess.run(outputs, {placeholder1:value1, placeholder2:value2})```\n",
        "  * OR output.eval({placeholder:value}) \n",
        "\n",
        "Still confused? We gonna fix that."
      ]
    },
    {
      "cell_type": "markdown",
      "metadata": {
        "id": "LFepNmT00UWE",
        "colab_type": "text"
      },
      "source": [
        "__Placeholders and constants__"
      ]
    },
    {
      "cell_type": "code",
      "metadata": {
        "id": "e_PWZQ7y0UWF",
        "colab_type": "code",
        "colab": {}
      },
      "source": [
        "# placeholder that can be arbitrary float32 scalar, vertor, matrix, etc.\n",
        "arbitrary_input = tf.placeholder('float32')\n",
        "\n",
        "# input vector of arbitrary length\n",
        "input_vector = tf.placeholder('float32', shape=(None,))\n",
        "\n",
        "# input vector that _must_ have 10 elements and integer type\n",
        "fixed_vector = tf.placeholder('int32', shape=(10,))\n",
        "\n",
        "# you can generally use None whenever you don't need a specific shape\n",
        "input1 = tf.placeholder('float64', shape=(None, 100, None))\n",
        "input2 = tf.placeholder('int32', shape=(None, None, 3, 224, 224))"
      ],
      "execution_count": null,
      "outputs": []
    },
    {
      "cell_type": "markdown",
      "metadata": {
        "id": "lXwGti1R0UWL",
        "colab_type": "text"
      },
      "source": [
        "You can create new __tensors__ with arbitrary operations on placeholders, constants and other tensors.\n",
        "\n",
        "* tf.reduce_sum(tf.arange(N)\\**2) are 3 sequential transformations of placeholder N\n",
        "* there's a tensorflow symbolic version for every numpy function\n",
        "  * `a + b, a / b, a ** b, ...` behave just like in numpy\n",
        "  * np.zeros -> tf.zeros\n",
        "  * np.sin -> tf.sin\n",
        "  * np.mean -> tf.reduce_mean\n",
        "  * np.arange -> tf.range\n",
        "  \n",
        "There are tons of other stuff in tensorflow, see the [docs](https://www.tensorflow.org/api_docs/python) or learn as you go with __shift+tab__."
      ]
    },
    {
      "cell_type": "code",
      "metadata": {
        "id": "jfVkisUc0UWM",
        "colab_type": "code",
        "colab": {}
      },
      "source": [
        "# elementwise multiplication\n",
        "double_the_vector = input_vector * 2\n",
        "\n",
        "# elementwise cosine\n",
        "elementwise_cosine = tf.cos(input_vector)\n",
        "\n",
        "# elementwise difference between squared vector and it's means - with some random salt\n",
        "vector_squares = input_vector ** 2 - \\\n",
        "    tf.reduce_mean(input_vector) + tf.random_normal(tf.shape(input_vector))"
      ],
      "execution_count": null,
      "outputs": []
    },
    {
      "cell_type": "markdown",
      "metadata": {
        "id": "Q8nxUTaZ0UWQ",
        "colab_type": "text"
      },
      "source": [
        "## Practice 1: polar pretzels\n",
        "_inspired by [this post](https://www.quora.com/What-are-the-most-interesting-equation-plots)_\n",
        "\n",
        "There are some simple mathematical functions with cool plots. For one, consider this:\n",
        "\n",
        "$$ x(t) = t - 1.5 * cos( 15 t) $$\n",
        "$$ y(t) = t - 1.5 * sin( 16 t) $$\n"
      ]
    },
    {
      "cell_type": "code",
      "metadata": {
        "id": "R69q4qN50UWQ",
        "colab_type": "code",
        "colab": {
          "base_uri": "https://localhost:8080/",
          "height": 282
        },
        "outputId": "a377f1c1-099b-48f4-a8d4-99a01a8dd4cb"
      },
      "source": [
        "t = tf.placeholder('float32')\n",
        "\n",
        "\n",
        "# compute x(t) and y(t) as defined above.\n",
        "x = t - 1.5 * tf.cos(15 * t)\n",
        "y = t - 1.5 * tf.sin(16 * t)\n",
        "\n",
        "\n",
        "x_points, y_points = sess.run([x, y], {t: np.linspace(-10, 10, num=10000)})\n",
        "plt.plot(x_points, y_points)"
      ],
      "execution_count": null,
      "outputs": [
        {
          "output_type": "execute_result",
          "data": {
            "text/plain": [
              "[<matplotlib.lines.Line2D at 0x7f77a18fb668>]"
            ]
          },
          "metadata": {
            "tags": []
          },
          "execution_count": 10
        },
        {
          "output_type": "display_data",
          "data": {
            "image/png": "[encoded data removed]",
            "text/plain": [
              "<Figure size 432x288 with 1 Axes>"
            ]
          },
          "metadata": {
            "tags": [],
            "needs_background": "light"
          }
        }
      ]
    },
    {
      "cell_type": "markdown",
      "metadata": {
        "id": "rXwAu-t-0UWX",
        "colab_type": "text"
      },
      "source": [
        "### Visualizing graphs with Tensorboard\n",
        "\n",
        "It's often useful to visualize the computation graph when debugging or optimizing. \n",
        "Interactive visualization is where tensorflow really shines as compared to other frameworks. \n",
        "\n",
        "There's a special instrument for that, called Tensorboard. You can launch it from console:\n",
        "\n",
        "__```tensorboard --logdir=/tmp/tboard --port=7007```__\n",
        "\n",
        "If you're pathologically afraid of consoles, try this:\n",
        "\n",
        "__```import os; os.system(\"tensorboard --logdir=/tmp/tboard --port=7007 &\")```__\n",
        "\n",
        "_(but don't tell anyone we taught you that)_"
      ]
    },
    {
      "cell_type": "markdown",
      "metadata": {
        "id": "6patvktL0UWc",
        "colab_type": "text"
      },
      "source": [
        "One basic functionality of tensorboard is drawing graphs. One you've run the cell above, go to `localhost:7007` in your browser and switch to _graphs_ tab in the topbar. \n",
        "\n",
        "Here's what you should see:\n",
        "\n",
        "<img src=\"https://www.tensorflow.org/images/graph_vis_animation.gif\" width=480>\n",
        "\n",
        "Tensorboard also allows you to draw graphs (e.g. learning curves), record images & audio ~~and play flash games~~. This is useful when monitoring learning progress and catching some training issues.\n",
        "\n",
        "One researcher said:\n",
        "```\n",
        "If you spent last four hours of your worktime watching as your algorithm prints numbers and draws figures, you're probably doing deep learning wrong.\n",
        "```"
      ]
    },
    {
      "cell_type": "markdown",
      "metadata": {
        "id": "Ybnvrfet0UWf",
        "colab_type": "text"
      },
      "source": [
        "You can read more on tensorboard usage [here](https://www.tensorflow.org/get_started/graph_viz)"
      ]
    },
    {
      "cell_type": "markdown",
      "metadata": {
        "id": "waB_iRGf0UWi",
        "colab_type": "text"
      },
      "source": [
        "# Practice 2: mean squared error\n"
      ]
    },
    {
      "cell_type": "code",
      "metadata": {
        "id": "QohtZ_3h0UWk",
        "colab_type": "code",
        "colab": {}
      },
      "source": [
        "# Quest #1 - implement a function that computes a mean squared error of two input vectors\n",
        "# Your function has to take 2 vectors and return a single number\n",
        "\n",
        "v1 = tf.placeholder('float32')\n",
        "v2 = tf.placeholder('float32')\n",
        "\n",
        "mse = tf.reduce_mean(tf.square(v1 - v2))\n",
        "\n",
        "compute_mse = lambda vector1, vector2: mse.eval({v1: vector1, v2:vector2})"
      ],
      "execution_count": null,
      "outputs": []
    },
    {
      "cell_type": "code",
      "metadata": {
        "id": "Q-F-TL8i0UWw",
        "colab_type": "code",
        "colab": {
          "base_uri": "https://localhost:8080/",
          "height": 34
        },
        "outputId": "a051bb07-24d0-46c8-d4c0-07d5be3614d1"
      },
      "source": [
        "# Tests\n",
        "from sklearn.metrics import mean_squared_error\n",
        "\n",
        "for n in [1, 5, 10, 10 ** 3]:\n",
        "\n",
        "    elems = [np.arange(n), np.arange(n, 0, -1), np.zeros(n),\n",
        "             np.ones(n), np.random.random(n), np.random.randint(100, size=n)]\n",
        "\n",
        "    for el in elems:\n",
        "        for el_2 in elems:\n",
        "            true_mse = np.array(mean_squared_error(el, el_2))\n",
        "            my_mse = compute_mse(el, el_2)\n",
        "            if not np.allclose(true_mse, my_mse):\n",
        "                print('Wrong result:')\n",
        "                print('mse(%s,%s)' % (el, el_2))\n",
        "                print(\"should be: %f, but your function returned %f\" % (true_mse, my_mse))\n",
        "                raise  ValueError (\"Что-то не так\")\n",
        "\n",
        "print(\"All tests passed\")"
      ],
      "execution_count": null,
      "outputs": [
        {
          "output_type": "stream",
          "text": [
            "All tests passed\n"
          ],
          "name": "stdout"
        }
      ]
    },
    {
      "cell_type": "markdown",
      "metadata": {
        "id": "qJEuaEOJ0UW2",
        "colab_type": "text"
      },
      "source": [
        "# Tensorflow variables\n",
        "\n",
        "The inputs and transformations have no value outside function call. That's a bit unnatural if you want your model to have parameters (e.g. network weights) that are always present, but can change their value over time.\n",
        "\n",
        "Tensorflow solves this with `tf.Variable` objects.\n",
        "* You can assign variable a value at any time in your graph\n",
        "* Unlike placeholders, there's no need to explicitly pass values to variables when `s.run(...)`-ing\n",
        "* You can use variables the same way you use transformations \n",
        " "
      ]
    },
    {
      "cell_type": "code",
      "metadata": {
        "id": "ezFP4ugq0UW3",
        "colab_type": "code",
        "colab": {}
      },
      "source": [
        "# creating shared variable\n",
        "shared_vector_1 = tf.Variable(initial_value=np.ones(5))\n",
        "\n",
        "# initialize all variables with initial values\n",
        "sess.run(tf.global_variables_initializer())"
      ],
      "execution_count": null,
      "outputs": []
    },
    {
      "cell_type": "code",
      "metadata": {
        "id": "c3GRPAw20UW9",
        "colab_type": "code",
        "colab": {
          "base_uri": "https://localhost:8080/",
          "height": 34
        },
        "outputId": "882609e7-c666-4d6f-c250-9aaae88cb804"
      },
      "source": [
        "# evaluating shared variable (outside symbolicd graph)\n",
        "print(\"initial value\", sess.run(shared_vector_1))\n",
        "\n",
        "# within symbolic graph you use them just as any other inout or transformation, not \"get value\" needed"
      ],
      "execution_count": null,
      "outputs": [
        {
          "output_type": "stream",
          "text": [
            "initial value [1. 1. 1. 1. 1.]\n"
          ],
          "name": "stdout"
        }
      ]
    },
    {
      "cell_type": "code",
      "metadata": {
        "id": "3xKaAIcv0UXD",
        "colab_type": "code",
        "colab": {
          "base_uri": "https://localhost:8080/",
          "height": 34
        },
        "outputId": "5215715c-475a-448d-881c-3979eadf4638"
      },
      "source": [
        "# setting new value manually\n",
        "sess.run(shared_vector_1.assign(np.arange(5)))\n",
        "\n",
        "# getting that new value\n",
        "print(\"new value\", sess.run(shared_vector_1))"
      ],
      "execution_count": null,
      "outputs": [
        {
          "output_type": "stream",
          "text": [
            "new value [0. 1. 2. 3. 4.]\n"
          ],
          "name": "stdout"
        }
      ]
    },
    {
      "cell_type": "markdown",
      "metadata": {
        "id": "99VCXKXp0UXI",
        "colab_type": "text"
      },
      "source": [
        "# tf.gradients - why graphs matter\n",
        "* Tensorflow can compute derivatives and gradients automatically using the computation graph\n",
        "* Gradients are computed as a product of elementary derivatives via chain rule:\n",
        "\n",
        "$$ {\\partial f(g(x)) \\over \\partial x} = {\\partial f(g(x)) \\over \\partial g(x)}\\cdot {\\partial g(x) \\over \\partial x} $$\n",
        "\n",
        "It can get you the derivative of any graph as long as it knows how to differentiate elementary operations"
      ]
    },
    {
      "cell_type": "code",
      "metadata": {
        "id": "VrpNXCaT0UXK",
        "colab_type": "code",
        "colab": {
          "base_uri": "https://localhost:8080/",
          "height": 88
        },
        "outputId": "82b911d7-8c66-4d2d-94fe-bc3ced8add9d"
      },
      "source": [
        "my_scalar = tf.placeholder('float32')\n",
        "\n",
        "scalar_squared = my_scalar ** 2\n",
        "\n",
        "# a derivative of scalar_squared by my_scalar\n",
        "derivative = tf.gradients(scalar_squared, [my_scalar])[0]"
      ],
      "execution_count": null,
      "outputs": [
        {
          "output_type": "stream",
          "text": [
            "WARNING:tensorflow:From /tensorflow-1.15.2/python3.6/tensorflow_core/python/ops/math_grad.py:1375: where (from tensorflow.python.ops.array_ops) is deprecated and will be removed in a future version.\n",
            "Instructions for updating:\n",
            "Use tf.where in 2.0, which has the same broadcast rule as np.where\n"
          ],
          "name": "stdout"
        }
      ]
    },
    {
      "cell_type": "code",
      "metadata": {
        "id": "bxVIa7q10UXR",
        "colab_type": "code",
        "colab": {
          "base_uri": "https://localhost:8080/",
          "height": 282
        },
        "outputId": "3b9af675-16a8-4705-8f35-8d91ce6d757a"
      },
      "source": [
        "x = np.linspace(-3, 3)\n",
        "x_squared, x_squared_der = sess.run(\n",
        "    [scalar_squared, derivative], {my_scalar: x})\n",
        "\n",
        "plt.plot(x, x_squared, label=\"x^2\")\n",
        "plt.plot(x, x_squared_der, label=\"derivative\")\n",
        "plt.legend()"
      ],
      "execution_count": null,
      "outputs": [
        {
          "output_type": "execute_result",
          "data": {
            "text/plain": [
              "<matplotlib.legend.Legend at 0x7f7791dfc940>"
            ]
          },
          "metadata": {
            "tags": []
          },
          "execution_count": 17
        },
        {
          "output_type": "display_data",
          "data": {
            "image/png": "[encoded data removed]",
            "text/plain": [
              "<Figure size 432x288 with 1 Axes>"
            ]
          },
          "metadata": {
            "tags": [],
            "needs_background": "light"
          }
        }
      ]
    },
    {
      "cell_type": "markdown",
      "metadata": {
        "id": "KoWCnA-C0UXW",
        "colab_type": "text"
      },
      "source": [
        "## Why autograd is cool"
      ]
    },
    {
      "cell_type": "code",
      "metadata": {
        "id": "6L9gC9qJ0UXX",
        "colab_type": "code",
        "colab": {}
      },
      "source": [
        "my_vector = tf.placeholder('float32', [None])\n",
        "\n",
        "# Compute the gradient of the next weird function over my_scalar and my_vector\n",
        "# warning! Trying to understand the meaning of that function may result in permanent brain damage\n",
        "\n",
        "weird_psychotic_function = tf.reduce_mean((my_vector+my_scalar)**(1+tf.nn.moments(my_vector, [0])[1]) + 1. / tf.atan(my_scalar))/(my_scalar**2 + 1) + 0.01*tf.sin(\n",
        "    2*my_scalar**1.5)*(tf.reduce_sum(my_vector) * my_scalar**2)*tf.exp((my_scalar-4)**2)/(1+tf.exp((my_scalar-4)**2))*(1.-(tf.exp(-(my_scalar-4)**2))/(1+tf.exp(-(my_scalar-4)**2)))**2\n",
        "\n",
        "der_by_scalar = tf.gradients(weird_psychotic_function, [my_scalar])[0]\n",
        "der_by_vector = tf.gradients(weird_psychotic_function, [my_vector])[0]"
      ],
      "execution_count": null,
      "outputs": []
    },
    {
      "cell_type": "code",
      "metadata": {
        "id": "3ZLuwJq00UXd",
        "colab_type": "code",
        "colab": {
          "base_uri": "https://localhost:8080/",
          "height": 282
        },
        "outputId": "5a42edb6-8405-4ca4-b4ac-f7f21e04da29"
      },
      "source": [
        "# Plotting your derivative\n",
        "scalar_space = np.linspace(1, 7, 100)\n",
        "\n",
        "y = [sess.run(weird_psychotic_function, {my_scalar: x, my_vector: [1, 2, 3]})\n",
        "     for x in scalar_space]\n",
        "\n",
        "plt.plot(scalar_space, y, label='function')\n",
        "\n",
        "y_der_by_scalar = [sess.run(der_by_scalar, {my_scalar: x, my_vector: [1, 2, 3]})\n",
        "                   for x in scalar_space]\n",
        "\n",
        "plt.plot(scalar_space, y_der_by_scalar, label='derivative')\n",
        "plt.grid()\n",
        "plt.legend()"
      ],
      "execution_count": null,
      "outputs": [
        {
          "output_type": "execute_result",
          "data": {
            "text/plain": [
              "<matplotlib.legend.Legend at 0x7f7792080668>"
            ]
          },
          "metadata": {
            "tags": []
          },
          "execution_count": 19
        },
        {
          "output_type": "display_data",
          "data": {
            "image/png": "[encoded data removed]",
            "text/plain": [
              "<Figure size 432x288 with 1 Axes>"
            ]
          },
          "metadata": {
            "tags": [],
            "needs_background": "light"
          }
        }
      ]
    },
    {
      "cell_type": "markdown",
      "metadata": {
        "id": "GAXFdlVA0UXj",
        "colab_type": "text"
      },
      "source": [
        "# Almost done - optimizers\n",
        "\n",
        "While you can perform gradient descent by hand with automatic grads from above, tensorflow also has some optimization methods implemented for you. Recall momentum & rmsprop?"
      ]
    },
    {
      "cell_type": "code",
      "metadata": {
        "id": "TT_B3jRg0UXk",
        "colab_type": "code",
        "colab": {}
      },
      "source": [
        "y_guess = tf.Variable(np.zeros(2, dtype='float32'))\n",
        "y_true = tf.range(1, 3, dtype='float32')\n",
        "\n",
        "loss = tf.reduce_mean((y_guess - y_true + tf.random_normal([2]))**2)\n",
        "\n",
        "optimizer = tf.train.MomentumOptimizer(\n",
        "    0.01, 0.9).minimize(loss, var_list=y_guess)\n",
        "\n",
        "# same, but more detailed:\n",
        "updates = [[tf.gradients(loss,y_guess)[0], y_guess]]\n",
        "optimizer = tf.train.MomentumOptimizer(0.01,0.9).apply_gradients(updates)"
      ],
      "execution_count": null,
      "outputs": []
    },
    {
      "cell_type": "code",
      "metadata": {
        "id": "9Fa-fMl50UXp",
        "colab_type": "code",
        "colab": {
          "base_uri": "https://localhost:8080/",
          "height": 265
        },
        "outputId": "c2f3598c-5e56-483a-dcf8-088717b0ae1b"
      },
      "source": [
        "from IPython.display import clear_output\n",
        "\n",
        "sess.run(tf.global_variables_initializer())\n",
        "\n",
        "guesses = [sess.run(y_guess)]\n",
        "\n",
        "for _ in range(100):\n",
        "    sess.run(optimizer)\n",
        "    guesses.append(sess.run(y_guess))\n",
        "\n",
        "    clear_output(True)\n",
        "    plt.plot(*zip(*guesses), marker='.')\n",
        "    plt.scatter(*sess.run(y_true), c='red')\n",
        "    plt.show()"
      ],
      "execution_count": null,
      "outputs": [
        {
          "output_type": "display_data",
          "data": {
            "image/png": "[encoded data removed]",
            "text/plain": [
              "<Figure size 432x288 with 1 Axes>"
            ]
          },
          "metadata": {
            "tags": [],
            "needs_background": "light"
          }
        }
      ]
    },
    {
      "cell_type": "markdown",
      "metadata": {
        "id": "RzFXi46U0UXv",
        "colab_type": "text"
      },
      "source": [
        "# Logistic regression example\n",
        "Implement the regular logistic regression training algorithm\n",
        " \n",
        "We shall train on a two-class MNIST dataset. \n",
        "\n",
        "This is a binary classification problem, so we'll train a __Logistic Regression with sigmoid__.\n",
        "$$P(y_i | X_i) = \\sigma(W \\cdot X_i + b) ={ 1 \\over {1+e^{- [W \\cdot X_i + b]}} }$$\n",
        "\n",
        "\n",
        "The natural choice of loss function is to use binary crossentropy (aka logloss, negative llh):\n",
        "$$ L = {1 \\over N} \\underset{X_i,y_i} \\sum - [  y_i \\cdot log P(y_i | X_i) + (1-y_i) \\cdot log (1-P(y_i | X_i)) ]$$\n",
        "\n",
        "Mind the minus :)\n"
      ]
    },
    {
      "cell_type": "code",
      "metadata": {
        "id": "0RNKoGmc0UXx",
        "colab_type": "code",
        "colab": {
          "base_uri": "https://localhost:8080/",
          "height": 51
        },
        "outputId": "ee44b11f-803c-4f44-95d1-5155b9054304"
      },
      "source": [
        "from sklearn.datasets import load_digits\n",
        "X, y = load_digits(2, return_X_y=True)\n",
        "\n",
        "print(\"y [shape - %s]:\" % (str(y.shape)), y[:10])\n",
        "print(\"X [shape - %s]:\" % (str(X.shape)))"
      ],
      "execution_count": null,
      "outputs": [
        {
          "output_type": "stream",
          "text": [
            "y [shape - (360,)]: [0 1 0 1 0 1 0 0 1 1]\n",
            "X [shape - (360, 64)]:\n"
          ],
          "name": "stdout"
        }
      ]
    },
    {
      "cell_type": "code",
      "metadata": {
        "id": "cAVHYStD0UX3",
        "colab_type": "code",
        "colab": {
          "base_uri": "https://localhost:8080/",
          "height": 384
        },
        "outputId": "7b22fd04-e292-4419-e249-587a8f453584"
      },
      "source": [
        "print('X:\\n', X[:3, :10])\n",
        "print('y:\\n', y[:10])\n",
        "plt.imshow(X[0].reshape([8, 8]))"
      ],
      "execution_count": null,
      "outputs": [
        {
          "output_type": "stream",
          "text": [
            "X:\n",
            " [[ 0.  0.  5. 13.  9.  1.  0.  0.  0.  0.]\n",
            " [ 0.  0.  0. 12. 13.  5.  0.  0.  0.  0.]\n",
            " [ 0.  0.  1.  9. 15. 11.  0.  0.  0.  0.]]\n",
            "y:\n",
            " [0 1 0 1 0 1 0 0 1 1]\n"
          ],
          "name": "stdout"
        },
        {
          "output_type": "execute_result",
          "data": {
            "text/plain": [
              "<matplotlib.image.AxesImage at 0x7f7791368080>"
            ]
          },
          "metadata": {
            "tags": []
          },
          "execution_count": 23
        },
        {
          "output_type": "display_data",
          "data": {
            "image/png": "[encoded data removed]",
            "text/plain": [
              "<Figure size 432x288 with 1 Axes>"
            ]
          },
          "metadata": {
            "tags": [],
            "needs_background": "light"
          }
        }
      ]
    },
    {
      "cell_type": "code",
      "metadata": {
        "id": "mBO83c-W0UX9",
        "colab_type": "code",
        "colab": {}
      },
      "source": [
        "# inputs and shareds\n",
        "m, n = X.shape\n",
        "weights = tf.Variable(tf.zeros(shape=[n, 1], dtype='float32')) #<student.create_variable()>\n",
        "input_X = tf.placeholder('float32', shape=(None, n))  #<student.create_placeholder_matrix()>\n",
        "input_y = tf.placeholder('float32', shape=(None, 1))  #<student.code_placeholder_vector()>"
      ],
      "execution_count": null,
      "outputs": []
    },
    {
      "cell_type": "code",
      "metadata": {
        "id": "kBntPx5G0UYE",
        "colab_type": "code",
        "colab": {}
      },
      "source": [
        "predicted_y_proba = tf.nn.sigmoid(tf.matmul(input_X, weights)) #<predicted probabilities for input_X using weights>\n",
        "loss = tf.losses.log_loss(labels=input_y, predictions=predicted_y_proba)  #<logistic loss(scalar, mean over sample) between predicted_y_proba and input_y>\n",
        "train_step = tf.train.GradientDescentOptimizer(learning_rate=0.5).minimize(loss)  #<operator that minimizes loss>\n",
        "init = tf.global_variables_initializer() "
      ],
      "execution_count": null,
      "outputs": []
    },
    {
      "cell_type": "code",
      "metadata": {
        "id": "VkkUMnlt0UYN",
        "colab_type": "code",
        "colab": {}
      },
      "source": [
        "from sklearn.model_selection import train_test_split\n",
        "X_train, X_test, y_train, y_test = train_test_split(X, y, random_state=42)\n",
        "y_train = y_train.reshape(y_train.shape[0], 1)\n",
        "y_test = y_test.reshape(y_test.shape[0], 1)"
      ],
      "execution_count": null,
      "outputs": []
    },
    {
      "cell_type": "code",
      "metadata": {
        "id": "pgAif59o0UYS",
        "colab_type": "code",
        "colab": {
          "base_uri": "https://localhost:8080/",
          "height": 877
        },
        "outputId": "fda4f221-76b7-4390-ef4a-18e029459753"
      },
      "source": [
        "from sklearn.metrics import roc_auc_score\n",
        "sess.run(init)\n",
        "\n",
        "for i in range(5):\n",
        "    print(\"Iteration: \",i)\n",
        "    loss_i, _ = sess.run([loss, train_step], {input_X: X_train, input_y: y_train})  # <YOUR CODE: feed values to placeholders>)\n",
        "    print(\"loss: %.4f\" % (loss_i))\n",
        "    print(\"train auc:\", roc_auc_score(y_train, sess.run(predicted_y_proba, {input_X: X_train})))\n",
        "    print(\"test auc:\", roc_auc_score(y_test, sess.run(predicted_y_proba, {input_X: X_test})))\n",
        "    print(\"weight: \", sess.run(tf.reduce_mean(weights)))\n",
        "    print(\"\\n\")\n",
        "\n",
        "print(\"resulting weights:\")\n",
        "shared_weights = sess.run(weights)\n",
        "plt.imshow(shared_weights.reshape(8, -1))\n",
        "plt.colorbar();"
      ],
      "execution_count": null,
      "outputs": [
        {
          "output_type": "stream",
          "text": [
            "Iteration:  0\n",
            "loss: 0.6931\n",
            "train auc: 0.9999451032059727\n",
            "test auc: 1.0\n",
            "weight:  0.015248813\n",
            "\n",
            "\n",
            "Iteration:  1\n",
            "loss: 0.0076\n",
            "train auc: 1.0\n",
            "test auc: 1.0\n",
            "weight:  0.0158908\n",
            "\n",
            "\n",
            "Iteration:  2\n",
            "loss: 0.0019\n",
            "train auc: 1.0\n",
            "test auc: 1.0\n",
            "weight:  0.015461098\n",
            "\n",
            "\n",
            "Iteration:  3\n",
            "loss: 0.0011\n",
            "train auc: 1.0\n",
            "test auc: 1.0\n",
            "weight:  0.01587966\n",
            "\n",
            "\n",
            "Iteration:  4\n",
            "loss: 0.0007\n",
            "train auc: 1.0\n",
            "test auc: 1.0\n",
            "weight:  0.015834458\n",
            "\n",
            "\n",
            "resulting weights:\n"
          ],
          "name": "stdout"
        },
        {
          "output_type": "display_data",
          "data": {
            "image/png": "[encoded data removed]",
            "text/plain": [
              "<Figure size 432x288 with 2 Axes>"
            ]
          },
          "metadata": {
            "tags": [],
            "needs_background": "light"
          }
        }
      ]
    },
    {
      "cell_type": "markdown",
      "metadata": {
        "id": "618XU6Jo0UYX",
        "colab_type": "text"
      },
      "source": [
        "# Practice 3: my first tensorflow network\n",
        "Your ultimate task for this week is to build your first neural network [almost] from scratch and pure tensorflow.\n",
        "\n",
        "This time you will same digit recognition problem, but at a larger scale\n",
        "* images are now 28x28\n",
        "* 10 different digits\n",
        "* 50k samples\n",
        "\n",
        "Note that you are not required to build 152-layer monsters here. A 2-layer (one hidden, one output) NN should already have ive you an edge over logistic regression.\n",
        "\n",
        "__[bonus score]__\n",
        "If you've already beaten logistic regression with a two-layer net, but enthusiasm still ain't gone, you can try improving the test accuracy even further! The milestones would be 95%/97.5%/98.5% accuraсy on test set.\n",
        "\n",
        "__SPOILER!__\n",
        "At the end of the notebook you will find a few tips and frequently made mistakes. If you feel enough might to shoot yourself in the foot without external assistance, we encourage you to do so, but if you encounter any unsurpassable issues, please do look there before mailing us."
      ]
    },
    {
      "cell_type": "code",
      "metadata": {
        "id": "U-t1Qoqb0UYZ",
        "colab_type": "code",
        "colab": {
          "base_uri": "https://localhost:8080/",
          "height": 34
        },
        "outputId": "666a5702-2079-4dca-8689-19bc2d27d9cd"
      },
      "source": [
        "from mnist import load_dataset\n",
        "\n",
        "# [down]loading the original MNIST dataset.\n",
        "# Please note that you should only train your NN on _train sample,\n",
        "#  _val can be used to evaluate out-of-sample error, compare models or perform early-stopping\n",
        "#  _test should be hidden under a rock untill final evaluation... But we both know it is near impossible to catch you evaluating on it.\n",
        "X_train, y_train, X_val, y_val, X_test, y_test = load_dataset()\n",
        "\n",
        "print(X_train.shape, y_train.shape)"
      ],
      "execution_count": 30,
      "outputs": [
        {
          "output_type": "stream",
          "text": [
            "(50000, 1, 28, 28) (50000,)\n"
          ],
          "name": "stdout"
        }
      ]
    },
    {
      "cell_type": "code",
      "metadata": {
        "id": "DFoHTnHn0UYg",
        "colab_type": "code",
        "colab": {
          "base_uri": "https://localhost:8080/",
          "height": 282
        },
        "outputId": "e8b297d8-5d56-4953-b85a-20f72a76c762"
      },
      "source": [
        "plt.imshow(X_train[0, 0])"
      ],
      "execution_count": 31,
      "outputs": [
        {
          "output_type": "execute_result",
          "data": {
            "text/plain": [
              "<matplotlib.image.AxesImage at 0x7fba25298b70>"
            ]
          },
          "metadata": {
            "tags": []
          },
          "execution_count": 31
        },
        {
          "output_type": "display_data",
          "data": {
            "image/png": "[encoded data removed]",
            "text/plain": [
              "<Figure size 432x288 with 1 Axes>"
            ]
          },
          "metadata": {
            "tags": [],
            "needs_background": "light"
          }
        }
      ]
    },
    {
      "cell_type": "code",
      "metadata": {
        "id": "QHhZo8xc5JbK",
        "colab_type": "code",
        "colab": {
          "base_uri": "https://localhost:8080/",
          "height": 34
        },
        "outputId": "3255c74f-8191-4bff-8975-78784086c7a1"
      },
      "source": [
        "X_train = X_train.reshape(X_train.shape[0], 784)\n",
        "X_test = X_test.reshape(X_test.shape[0], 784)\n",
        "X_val = X_val.reshape(X_val.shape[0], 784)\n",
        "y_train = y_train.reshape(y_train.shape[0], 1)\n",
        "y_test = y_test.reshape(y_test.shape[0], 1)\n",
        "y_val =  y_val.reshape(y_val.shape[0], 1)\n",
        "\n",
        "print(X_train.shape, y_train.shape)"
      ],
      "execution_count": 32,
      "outputs": [
        {
          "output_type": "stream",
          "text": [
            "(50000, 784) (50000, 1)\n"
          ],
          "name": "stdout"
        }
      ]
    },
    {
      "cell_type": "code",
      "metadata": {
        "id": "vDkDQ0i70UYj",
        "colab_type": "code",
        "colab": {}
      },
      "source": [
        "#<this cell looks as if it wants you to create variables here>\n",
        "tf.random.seed = 40\n",
        "input_X = tf.placeholder('float32', [None, 784])\n",
        "input_y = tf.placeholder('float32', [None,10])\n",
        "w1 = tf.Variable(tf.random.normal([784, 100]))\n",
        "w2 = tf.Variable(tf.random.normal([100,10]))"
      ],
      "execution_count": 39,
      "outputs": []
    },
    {
      "cell_type": "code",
      "metadata": {
        "id": "OJXy-8L_Jer3",
        "colab_type": "code",
        "colab": {}
      },
      "source": [
        "from sklearn.preprocessing import OneHotEncoder\n",
        "# creating instance of one-hot-encoder\n",
        "enc = OneHotEncoder(handle_unknown='ignore')\n",
        "y_train_enc = enc.fit_transform(y_train.reshape(-1, 1)).toarray()\n",
        "y_val_enc = enc.transform(y_val.reshape(-1, 1)).toarray()\n",
        "y_test_enc = enc.transform(y_test.reshape(-1, 1)).toarray()"
      ],
      "execution_count": 40,
      "outputs": []
    },
    {
      "cell_type": "code",
      "metadata": {
        "id": "SRZq3kPJ0UYn",
        "colab_type": "code",
        "colab": {}
      },
      "source": [
        "#<you could just as well create a computation graph here - loss, optimizers, all that stuff>\n",
        "yhat_1 = tf.nn.sigmoid(tf.matmul(input_X, w1))\n",
        "y_hat = tf.nn.sigmoid(tf.matmul(yhat_1, w2))\n",
        "\n",
        "loss = tf.losses.softmax_cross_entropy(onehot_labels=input_y, logits=y_hat)\n",
        "train_step = tf.train.GradientDescentOptimizer(learning_rate=0.9).minimize(loss)\n",
        "\n",
        "correct_prediction = tf.equal(tf.argmax(input_y, axis=1), tf.argmax(y_hat, axis=1))\n",
        "accuracy = tf.reduce_mean(tf.cast(correct_prediction, tf.float32))\n",
        "\n",
        "init = tf.global_variables_initializer()"
      ],
      "execution_count": 47,
      "outputs": []
    },
    {
      "cell_type": "code",
      "metadata": {
        "id": "OWpvBO5F0UYu",
        "colab_type": "code",
        "colab": {
          "base_uri": "https://localhost:8080/",
          "height": 1000
        },
        "outputId": "24528a62-eefa-410b-c7e0-27928c0c37e4"
      },
      "source": [
        "#<this may or may not be a good place to run optimizer in a loop>\n",
        "sess.run(init)\n",
        "epochs = 500\n",
        "\n",
        "for epoch in range(epochs):\n",
        "  _, loss_train = sess.run([train_step, loss], feed_dict={input_X: X_train, input_y: y_train_enc})\n",
        "  loss_val = sess.run(loss, feed_dict={input_X: X_val, input_y: y_val_enc})\n",
        "  if loss_train < 0:\n",
        "    break\n",
        "  print(\"Epoch:\", (epoch + 1), \"Training loss =\", \"{:.3f}\".format(loss_train), \"Validation loss =\", \"{:.3f}\".format(loss_val))"
      ],
      "execution_count": 48,
      "outputs": [
        {
          "output_type": "stream",
          "text": [
            "Epoch: 1 Training loss = 2.360 Validation loss = 2.359\n",
            "Epoch: 2 Training loss = 2.356 Validation loss = 2.354\n",
            "Epoch: 3 Training loss = 2.351 Validation loss = 2.350\n",
            "Epoch: 4 Training loss = 2.346 Validation loss = 2.345\n",
            "Epoch: 5 Training loss = 2.342 Validation loss = 2.341\n",
            "Epoch: 6 Training loss = 2.337 Validation loss = 2.336\n",
            "Epoch: 7 Training loss = 2.333 Validation loss = 2.332\n",
            "Epoch: 8 Training loss = 2.328 Validation loss = 2.327\n",
            "Epoch: 9 Training loss = 2.324 Validation loss = 2.322\n",
            "Epoch: 10 Training loss = 2.319 Validation loss = 2.317\n",
            "Epoch: 11 Training loss = 2.314 Validation loss = 2.312\n",
            "Epoch: 12 Training loss = 2.309 Validation loss = 2.307\n",
            "Epoch: 13 Training loss = 2.304 Validation loss = 2.302\n",
            "Epoch: 14 Training loss = 2.299 Validation loss = 2.296\n",
            "Epoch: 15 Training loss = 2.294 Validation loss = 2.291\n",
            "Epoch: 16 Training loss = 2.289 Validation loss = 2.286\n",
            "Epoch: 17 Training loss = 2.284 Validation loss = 2.281\n",
            "Epoch: 18 Training loss = 2.279 Validation loss = 2.276\n",
            "Epoch: 19 Training loss = 2.274 Validation loss = 2.271\n",
            "Epoch: 20 Training loss = 2.269 Validation loss = 2.266\n",
            "Epoch: 21 Training loss = 2.265 Validation loss = 2.262\n",
            "Epoch: 22 Training loss = 2.260 Validation loss = 2.257\n",
            "Epoch: 23 Training loss = 2.255 Validation loss = 2.253\n",
            "Epoch: 24 Training loss = 2.251 Validation loss = 2.248\n",
            "Epoch: 25 Training loss = 2.247 Validation loss = 2.244\n",
            "Epoch: 26 Training loss = 2.243 Validation loss = 2.240\n",
            "Epoch: 27 Training loss = 2.239 Validation loss = 2.236\n",
            "Epoch: 28 Training loss = 2.234 Validation loss = 2.232\n",
            "Epoch: 29 Training loss = 2.231 Validation loss = 2.228\n",
            "Epoch: 30 Training loss = 2.227 Validation loss = 2.225\n",
            "Epoch: 31 Training loss = 2.223 Validation loss = 2.221\n",
            "Epoch: 32 Training loss = 2.219 Validation loss = 2.217\n",
            "Epoch: 33 Training loss = 2.215 Validation loss = 2.214\n",
            "Epoch: 34 Training loss = 2.212 Validation loss = 2.210\n",
            "Epoch: 35 Training loss = 2.208 Validation loss = 2.206\n",
            "Epoch: 36 Training loss = 2.204 Validation loss = 2.203\n",
            "Epoch: 37 Training loss = 2.201 Validation loss = 2.199\n",
            "Epoch: 38 Training loss = 2.197 Validation loss = 2.196\n",
            "Epoch: 39 Training loss = 2.193 Validation loss = 2.192\n",
            "Epoch: 40 Training loss = 2.190 Validation loss = 2.189\n",
            "Epoch: 41 Training loss = 2.186 Validation loss = 2.186\n",
            "Epoch: 42 Training loss = 2.183 Validation loss = 2.182\n",
            "Epoch: 43 Training loss = 2.180 Validation loss = 2.179\n",
            "Epoch: 44 Training loss = 2.176 Validation loss = 2.176\n",
            "Epoch: 45 Training loss = 2.173 Validation loss = 2.172\n",
            "Epoch: 46 Training loss = 2.169 Validation loss = 2.169\n",
            "Epoch: 47 Training loss = 2.166 Validation loss = 2.166\n",
            "Epoch: 48 Training loss = 2.163 Validation loss = 2.162\n",
            "Epoch: 49 Training loss = 2.160 Validation loss = 2.159\n",
            "Epoch: 50 Training loss = 2.156 Validation loss = 2.156\n",
            "Epoch: 51 Training loss = 2.153 Validation loss = 2.153\n",
            "Epoch: 52 Training loss = 2.150 Validation loss = 2.150\n",
            "Epoch: 53 Training loss = 2.147 Validation loss = 2.147\n",
            "Epoch: 54 Training loss = 2.144 Validation loss = 2.143\n",
            "Epoch: 55 Training loss = 2.141 Validation loss = 2.140\n",
            "Epoch: 56 Training loss = 2.138 Validation loss = 2.137\n",
            "Epoch: 57 Training loss = 2.135 Validation loss = 2.134\n",
            "Epoch: 58 Training loss = 2.132 Validation loss = 2.131\n",
            "Epoch: 59 Training loss = 2.129 Validation loss = 2.128\n",
            "Epoch: 60 Training loss = 2.126 Validation loss = 2.125\n",
            "Epoch: 61 Training loss = 2.123 Validation loss = 2.122\n",
            "Epoch: 62 Training loss = 2.120 Validation loss = 2.119\n",
            "Epoch: 63 Training loss = 2.117 Validation loss = 2.116\n",
            "Epoch: 64 Training loss = 2.114 Validation loss = 2.113\n",
            "Epoch: 65 Training loss = 2.111 Validation loss = 2.111\n",
            "Epoch: 66 Training loss = 2.108 Validation loss = 2.108\n",
            "Epoch: 67 Training loss = 2.105 Validation loss = 2.105\n",
            "Epoch: 68 Training loss = 2.103 Validation loss = 2.102\n",
            "Epoch: 69 Training loss = 2.100 Validation loss = 2.099\n",
            "Epoch: 70 Training loss = 2.097 Validation loss = 2.096\n",
            "Epoch: 71 Training loss = 2.094 Validation loss = 2.093\n",
            "Epoch: 72 Training loss = 2.091 Validation loss = 2.091\n",
            "Epoch: 73 Training loss = 2.089 Validation loss = 2.088\n",
            "Epoch: 74 Training loss = 2.086 Validation loss = 2.085\n",
            "Epoch: 75 Training loss = 2.083 Validation loss = 2.082\n",
            "Epoch: 76 Training loss = 2.081 Validation loss = 2.080\n",
            "Epoch: 77 Training loss = 2.078 Validation loss = 2.077\n",
            "Epoch: 78 Training loss = 2.075 Validation loss = 2.074\n",
            "Epoch: 79 Training loss = 2.073 Validation loss = 2.072\n",
            "Epoch: 80 Training loss = 2.070 Validation loss = 2.069\n",
            "Epoch: 81 Training loss = 2.068 Validation loss = 2.066\n",
            "Epoch: 82 Training loss = 2.065 Validation loss = 2.064\n",
            "Epoch: 83 Training loss = 2.063 Validation loss = 2.061\n",
            "Epoch: 84 Training loss = 2.060 Validation loss = 2.059\n",
            "Epoch: 85 Training loss = 2.057 Validation loss = 2.056\n",
            "Epoch: 86 Training loss = 2.055 Validation loss = 2.054\n",
            "Epoch: 87 Training loss = 2.053 Validation loss = 2.051\n",
            "Epoch: 88 Training loss = 2.050 Validation loss = 2.049\n",
            "Epoch: 89 Training loss = 2.048 Validation loss = 2.046\n",
            "Epoch: 90 Training loss = 2.045 Validation loss = 2.044\n",
            "Epoch: 91 Training loss = 2.043 Validation loss = 2.041\n",
            "Epoch: 92 Training loss = 2.041 Validation loss = 2.039\n",
            "Epoch: 93 Training loss = 2.038 Validation loss = 2.036\n",
            "Epoch: 94 Training loss = 2.036 Validation loss = 2.034\n",
            "Epoch: 95 Training loss = 2.034 Validation loss = 2.032\n",
            "Epoch: 96 Training loss = 2.031 Validation loss = 2.029\n",
            "Epoch: 97 Training loss = 2.029 Validation loss = 2.027\n",
            "Epoch: 98 Training loss = 2.027 Validation loss = 2.025\n",
            "Epoch: 99 Training loss = 2.025 Validation loss = 2.023\n",
            "Epoch: 100 Training loss = 2.022 Validation loss = 2.020\n",
            "Epoch: 101 Training loss = 2.020 Validation loss = 2.018\n",
            "Epoch: 102 Training loss = 2.018 Validation loss = 2.016\n",
            "Epoch: 103 Training loss = 2.016 Validation loss = 2.014\n",
            "Epoch: 104 Training loss = 2.014 Validation loss = 2.012\n",
            "Epoch: 105 Training loss = 2.012 Validation loss = 2.009\n",
            "Epoch: 106 Training loss = 2.009 Validation loss = 2.007\n",
            "Epoch: 107 Training loss = 2.007 Validation loss = 2.005\n",
            "Epoch: 108 Training loss = 2.005 Validation loss = 2.003\n",
            "Epoch: 109 Training loss = 2.003 Validation loss = 2.001\n",
            "Epoch: 110 Training loss = 2.001 Validation loss = 1.999\n",
            "Epoch: 111 Training loss = 1.999 Validation loss = 1.997\n",
            "Epoch: 112 Training loss = 1.997 Validation loss = 1.995\n",
            "Epoch: 113 Training loss = 1.995 Validation loss = 1.993\n",
            "Epoch: 114 Training loss = 1.993 Validation loss = 1.991\n",
            "Epoch: 115 Training loss = 1.991 Validation loss = 1.989\n",
            "Epoch: 116 Training loss = 1.989 Validation loss = 1.987\n",
            "Epoch: 117 Training loss = 1.987 Validation loss = 1.985\n",
            "Epoch: 118 Training loss = 1.986 Validation loss = 1.983\n",
            "Epoch: 119 Training loss = 1.984 Validation loss = 1.981\n",
            "Epoch: 120 Training loss = 1.982 Validation loss = 1.979\n",
            "Epoch: 121 Training loss = 1.980 Validation loss = 1.977\n",
            "Epoch: 122 Training loss = 1.978 Validation loss = 1.975\n",
            "Epoch: 123 Training loss = 1.976 Validation loss = 1.973\n",
            "Epoch: 124 Training loss = 1.975 Validation loss = 1.971\n",
            "Epoch: 125 Training loss = 1.973 Validation loss = 1.970\n",
            "Epoch: 126 Training loss = 1.971 Validation loss = 1.968\n",
            "Epoch: 127 Training loss = 1.969 Validation loss = 1.966\n",
            "Epoch: 128 Training loss = 1.967 Validation loss = 1.964\n",
            "Epoch: 129 Training loss = 1.966 Validation loss = 1.962\n",
            "Epoch: 130 Training loss = 1.964 Validation loss = 1.961\n",
            "Epoch: 131 Training loss = 1.962 Validation loss = 1.959\n",
            "Epoch: 132 Training loss = 1.961 Validation loss = 1.957\n",
            "Epoch: 133 Training loss = 1.959 Validation loss = 1.955\n",
            "Epoch: 134 Training loss = 1.957 Validation loss = 1.954\n",
            "Epoch: 135 Training loss = 1.956 Validation loss = 1.952\n",
            "Epoch: 136 Training loss = 1.954 Validation loss = 1.950\n",
            "Epoch: 137 Training loss = 1.952 Validation loss = 1.949\n",
            "Epoch: 138 Training loss = 1.951 Validation loss = 1.947\n",
            "Epoch: 139 Training loss = 1.949 Validation loss = 1.945\n",
            "Epoch: 140 Training loss = 1.948 Validation loss = 1.944\n",
            "Epoch: 141 Training loss = 1.946 Validation loss = 1.942\n",
            "Epoch: 142 Training loss = 1.945 Validation loss = 1.941\n",
            "Epoch: 143 Training loss = 1.943 Validation loss = 1.939\n",
            "Epoch: 144 Training loss = 1.942 Validation loss = 1.937\n",
            "Epoch: 145 Training loss = 1.940 Validation loss = 1.936\n",
            "Epoch: 146 Training loss = 1.939 Validation loss = 1.934\n",
            "Epoch: 147 Training loss = 1.937 Validation loss = 1.933\n",
            "Epoch: 148 Training loss = 1.936 Validation loss = 1.931\n",
            "Epoch: 149 Training loss = 1.934 Validation loss = 1.930\n",
            "Epoch: 150 Training loss = 1.933 Validation loss = 1.928\n",
            "Epoch: 151 Training loss = 1.931 Validation loss = 1.927\n",
            "Epoch: 152 Training loss = 1.930 Validation loss = 1.925\n",
            "Epoch: 153 Training loss = 1.929 Validation loss = 1.924\n",
            "Epoch: 154 Training loss = 1.927 Validation loss = 1.922\n",
            "Epoch: 155 Training loss = 1.926 Validation loss = 1.921\n",
            "Epoch: 156 Training loss = 1.924 Validation loss = 1.919\n",
            "Epoch: 157 Training loss = 1.923 Validation loss = 1.918\n",
            "Epoch: 158 Training loss = 1.922 Validation loss = 1.917\n",
            "Epoch: 159 Training loss = 1.920 Validation loss = 1.915\n",
            "Epoch: 160 Training loss = 1.919 Validation loss = 1.914\n",
            "Epoch: 161 Training loss = 1.918 Validation loss = 1.912\n",
            "Epoch: 162 Training loss = 1.916 Validation loss = 1.911\n",
            "Epoch: 163 Training loss = 1.915 Validation loss = 1.910\n",
            "Epoch: 164 Training loss = 1.914 Validation loss = 1.908\n",
            "Epoch: 165 Training loss = 1.913 Validation loss = 1.907\n",
            "Epoch: 166 Training loss = 1.911 Validation loss = 1.906\n",
            "Epoch: 167 Training loss = 1.910 Validation loss = 1.904\n",
            "Epoch: 168 Training loss = 1.909 Validation loss = 1.903\n",
            "Epoch: 169 Training loss = 1.908 Validation loss = 1.902\n",
            "Epoch: 170 Training loss = 1.906 Validation loss = 1.901\n",
            "Epoch: 171 Training loss = 1.905 Validation loss = 1.899\n",
            "Epoch: 172 Training loss = 1.904 Validation loss = 1.898\n",
            "Epoch: 173 Training loss = 1.903 Validation loss = 1.897\n",
            "Epoch: 174 Training loss = 1.902 Validation loss = 1.896\n",
            "Epoch: 175 Training loss = 1.900 Validation loss = 1.894\n",
            "Epoch: 176 Training loss = 1.899 Validation loss = 1.893\n",
            "Epoch: 177 Training loss = 1.898 Validation loss = 1.892\n",
            "Epoch: 178 Training loss = 1.897 Validation loss = 1.891\n",
            "Epoch: 179 Training loss = 1.896 Validation loss = 1.890\n",
            "Epoch: 180 Training loss = 1.895 Validation loss = 1.888\n",
            "Epoch: 181 Training loss = 1.894 Validation loss = 1.887\n",
            "Epoch: 182 Training loss = 1.893 Validation loss = 1.886\n",
            "Epoch: 183 Training loss = 1.891 Validation loss = 1.885\n",
            "Epoch: 184 Training loss = 1.890 Validation loss = 1.884\n",
            "Epoch: 185 Training loss = 1.889 Validation loss = 1.883\n",
            "Epoch: 186 Training loss = 1.888 Validation loss = 1.882\n",
            "Epoch: 187 Training loss = 1.887 Validation loss = 1.880\n",
            "Epoch: 188 Training loss = 1.886 Validation loss = 1.879\n",
            "Epoch: 189 Training loss = 1.885 Validation loss = 1.878\n",
            "Epoch: 190 Training loss = 1.884 Validation loss = 1.877\n",
            "Epoch: 191 Training loss = 1.883 Validation loss = 1.876\n",
            "Epoch: 192 Training loss = 1.882 Validation loss = 1.875\n",
            "Epoch: 193 Training loss = 1.881 Validation loss = 1.874\n",
            "Epoch: 194 Training loss = 1.880 Validation loss = 1.873\n",
            "Epoch: 195 Training loss = 1.879 Validation loss = 1.872\n",
            "Epoch: 196 Training loss = 1.878 Validation loss = 1.871\n",
            "Epoch: 197 Training loss = 1.877 Validation loss = 1.870\n",
            "Epoch: 198 Training loss = 1.876 Validation loss = 1.869\n",
            "Epoch: 199 Training loss = 1.875 Validation loss = 1.868\n",
            "Epoch: 200 Training loss = 1.874 Validation loss = 1.867\n",
            "Epoch: 201 Training loss = 1.873 Validation loss = 1.866\n",
            "Epoch: 202 Training loss = 1.872 Validation loss = 1.865\n",
            "Epoch: 203 Training loss = 1.871 Validation loss = 1.864\n",
            "Epoch: 204 Training loss = 1.870 Validation loss = 1.863\n",
            "Epoch: 205 Training loss = 1.869 Validation loss = 1.862\n",
            "Epoch: 206 Training loss = 1.868 Validation loss = 1.861\n",
            "Epoch: 207 Training loss = 1.867 Validation loss = 1.860\n",
            "Epoch: 208 Training loss = 1.867 Validation loss = 1.859\n",
            "Epoch: 209 Training loss = 1.866 Validation loss = 1.858\n",
            "Epoch: 210 Training loss = 1.865 Validation loss = 1.857\n",
            "Epoch: 211 Training loss = 1.864 Validation loss = 1.856\n",
            "Epoch: 212 Training loss = 1.863 Validation loss = 1.855\n",
            "Epoch: 213 Training loss = 1.862 Validation loss = 1.854\n",
            "Epoch: 214 Training loss = 1.861 Validation loss = 1.853\n",
            "Epoch: 215 Training loss = 1.860 Validation loss = 1.852\n",
            "Epoch: 216 Training loss = 1.859 Validation loss = 1.851\n",
            "Epoch: 217 Training loss = 1.859 Validation loss = 1.851\n",
            "Epoch: 218 Training loss = 1.858 Validation loss = 1.850\n",
            "Epoch: 219 Training loss = 1.857 Validation loss = 1.849\n",
            "Epoch: 220 Training loss = 1.856 Validation loss = 1.848\n",
            "Epoch: 221 Training loss = 1.855 Validation loss = 1.847\n",
            "Epoch: 222 Training loss = 1.854 Validation loss = 1.846\n",
            "Epoch: 223 Training loss = 1.854 Validation loss = 1.845\n",
            "Epoch: 224 Training loss = 1.853 Validation loss = 1.844\n",
            "Epoch: 225 Training loss = 1.852 Validation loss = 1.844\n",
            "Epoch: 226 Training loss = 1.851 Validation loss = 1.843\n",
            "Epoch: 227 Training loss = 1.850 Validation loss = 1.842\n",
            "Epoch: 228 Training loss = 1.850 Validation loss = 1.841\n",
            "Epoch: 229 Training loss = 1.849 Validation loss = 1.840\n",
            "Epoch: 230 Training loss = 1.848 Validation loss = 1.839\n",
            "Epoch: 231 Training loss = 1.847 Validation loss = 1.839\n",
            "Epoch: 232 Training loss = 1.846 Validation loss = 1.838\n",
            "Epoch: 233 Training loss = 1.846 Validation loss = 1.837\n",
            "Epoch: 234 Training loss = 1.845 Validation loss = 1.836\n",
            "Epoch: 235 Training loss = 1.844 Validation loss = 1.835\n",
            "Epoch: 236 Training loss = 1.843 Validation loss = 1.835\n",
            "Epoch: 237 Training loss = 1.843 Validation loss = 1.834\n",
            "Epoch: 238 Training loss = 1.842 Validation loss = 1.833\n",
            "Epoch: 239 Training loss = 1.841 Validation loss = 1.832\n",
            "Epoch: 240 Training loss = 1.840 Validation loss = 1.832\n",
            "Epoch: 241 Training loss = 1.840 Validation loss = 1.831\n",
            "Epoch: 242 Training loss = 1.839 Validation loss = 1.830\n",
            "Epoch: 243 Training loss = 1.838 Validation loss = 1.829\n",
            "Epoch: 244 Training loss = 1.837 Validation loss = 1.828\n",
            "Epoch: 245 Training loss = 1.837 Validation loss = 1.828\n",
            "Epoch: 246 Training loss = 1.836 Validation loss = 1.827\n",
            "Epoch: 247 Training loss = 1.835 Validation loss = 1.826\n",
            "Epoch: 248 Training loss = 1.835 Validation loss = 1.826\n",
            "Epoch: 249 Training loss = 1.834 Validation loss = 1.825\n",
            "Epoch: 250 Training loss = 1.833 Validation loss = 1.824\n",
            "Epoch: 251 Training loss = 1.833 Validation loss = 1.823\n",
            "Epoch: 252 Training loss = 1.832 Validation loss = 1.823\n",
            "Epoch: 253 Training loss = 1.831 Validation loss = 1.822\n",
            "Epoch: 254 Training loss = 1.831 Validation loss = 1.821\n",
            "Epoch: 255 Training loss = 1.830 Validation loss = 1.821\n",
            "Epoch: 256 Training loss = 1.829 Validation loss = 1.820\n",
            "Epoch: 257 Training loss = 1.829 Validation loss = 1.819\n",
            "Epoch: 258 Training loss = 1.828 Validation loss = 1.818\n",
            "Epoch: 259 Training loss = 1.827 Validation loss = 1.818\n",
            "Epoch: 260 Training loss = 1.827 Validation loss = 1.817\n",
            "Epoch: 261 Training loss = 1.826 Validation loss = 1.816\n",
            "Epoch: 262 Training loss = 1.825 Validation loss = 1.816\n",
            "Epoch: 263 Training loss = 1.825 Validation loss = 1.815\n",
            "Epoch: 264 Training loss = 1.824 Validation loss = 1.814\n",
            "Epoch: 265 Training loss = 1.823 Validation loss = 1.814\n",
            "Epoch: 266 Training loss = 1.823 Validation loss = 1.813\n",
            "Epoch: 267 Training loss = 1.822 Validation loss = 1.812\n",
            "Epoch: 268 Training loss = 1.821 Validation loss = 1.812\n",
            "Epoch: 269 Training loss = 1.821 Validation loss = 1.811\n",
            "Epoch: 270 Training loss = 1.820 Validation loss = 1.811\n",
            "Epoch: 271 Training loss = 1.820 Validation loss = 1.810\n",
            "Epoch: 272 Training loss = 1.819 Validation loss = 1.809\n",
            "Epoch: 273 Training loss = 1.818 Validation loss = 1.809\n",
            "Epoch: 274 Training loss = 1.818 Validation loss = 1.808\n",
            "Epoch: 275 Training loss = 1.817 Validation loss = 1.807\n",
            "Epoch: 276 Training loss = 1.817 Validation loss = 1.807\n",
            "Epoch: 277 Training loss = 1.816 Validation loss = 1.806\n",
            "Epoch: 278 Training loss = 1.815 Validation loss = 1.806\n",
            "Epoch: 279 Training loss = 1.815 Validation loss = 1.805\n",
            "Epoch: 280 Training loss = 1.814 Validation loss = 1.804\n",
            "Epoch: 281 Training loss = 1.814 Validation loss = 1.804\n",
            "Epoch: 282 Training loss = 1.813 Validation loss = 1.803\n",
            "Epoch: 283 Training loss = 1.813 Validation loss = 1.802\n",
            "Epoch: 284 Training loss = 1.812 Validation loss = 1.802\n",
            "Epoch: 285 Training loss = 1.811 Validation loss = 1.801\n",
            "Epoch: 286 Training loss = 1.811 Validation loss = 1.801\n",
            "Epoch: 287 Training loss = 1.810 Validation loss = 1.800\n",
            "Epoch: 288 Training loss = 1.810 Validation loss = 1.800\n",
            "Epoch: 289 Training loss = 1.809 Validation loss = 1.799\n",
            "Epoch: 290 Training loss = 1.809 Validation loss = 1.798\n",
            "Epoch: 291 Training loss = 1.808 Validation loss = 1.798\n",
            "Epoch: 292 Training loss = 1.807 Validation loss = 1.797\n",
            "Epoch: 293 Training loss = 1.807 Validation loss = 1.797\n",
            "Epoch: 294 Training loss = 1.806 Validation loss = 1.796\n",
            "Epoch: 295 Training loss = 1.806 Validation loss = 1.796\n",
            "Epoch: 296 Training loss = 1.805 Validation loss = 1.795\n",
            "Epoch: 297 Training loss = 1.805 Validation loss = 1.794\n",
            "Epoch: 298 Training loss = 1.804 Validation loss = 1.794\n",
            "Epoch: 299 Training loss = 1.804 Validation loss = 1.793\n",
            "Epoch: 300 Training loss = 1.803 Validation loss = 1.793\n",
            "Epoch: 301 Training loss = 1.803 Validation loss = 1.792\n",
            "Epoch: 302 Training loss = 1.802 Validation loss = 1.792\n",
            "Epoch: 303 Training loss = 1.802 Validation loss = 1.791\n",
            "Epoch: 304 Training loss = 1.801 Validation loss = 1.791\n",
            "Epoch: 305 Training loss = 1.801 Validation loss = 1.790\n",
            "Epoch: 306 Training loss = 1.800 Validation loss = 1.790\n",
            "Epoch: 307 Training loss = 1.800 Validation loss = 1.789\n",
            "Epoch: 308 Training loss = 1.799 Validation loss = 1.789\n",
            "Epoch: 309 Training loss = 1.799 Validation loss = 1.788\n",
            "Epoch: 310 Training loss = 1.798 Validation loss = 1.788\n",
            "Epoch: 311 Training loss = 1.798 Validation loss = 1.787\n",
            "Epoch: 312 Training loss = 1.797 Validation loss = 1.787\n",
            "Epoch: 313 Training loss = 1.797 Validation loss = 1.786\n",
            "Epoch: 314 Training loss = 1.796 Validation loss = 1.786\n",
            "Epoch: 315 Training loss = 1.796 Validation loss = 1.785\n",
            "Epoch: 316 Training loss = 1.795 Validation loss = 1.785\n",
            "Epoch: 317 Training loss = 1.795 Validation loss = 1.784\n",
            "Epoch: 318 Training loss = 1.794 Validation loss = 1.784\n",
            "Epoch: 319 Training loss = 1.794 Validation loss = 1.783\n",
            "Epoch: 320 Training loss = 1.793 Validation loss = 1.783\n",
            "Epoch: 321 Training loss = 1.793 Validation loss = 1.782\n",
            "Epoch: 322 Training loss = 1.792 Validation loss = 1.782\n",
            "Epoch: 323 Training loss = 1.792 Validation loss = 1.781\n",
            "Epoch: 324 Training loss = 1.791 Validation loss = 1.781\n",
            "Epoch: 325 Training loss = 1.791 Validation loss = 1.780\n",
            "Epoch: 326 Training loss = 1.790 Validation loss = 1.780\n",
            "Epoch: 327 Training loss = 1.790 Validation loss = 1.779\n",
            "Epoch: 328 Training loss = 1.790 Validation loss = 1.779\n",
            "Epoch: 329 Training loss = 1.789 Validation loss = 1.778\n",
            "Epoch: 330 Training loss = 1.789 Validation loss = 1.778\n",
            "Epoch: 331 Training loss = 1.788 Validation loss = 1.777\n",
            "Epoch: 332 Training loss = 1.788 Validation loss = 1.777\n",
            "Epoch: 333 Training loss = 1.787 Validation loss = 1.776\n",
            "Epoch: 334 Training loss = 1.787 Validation loss = 1.776\n",
            "Epoch: 335 Training loss = 1.786 Validation loss = 1.776\n",
            "Epoch: 336 Training loss = 1.786 Validation loss = 1.775\n",
            "Epoch: 337 Training loss = 1.786 Validation loss = 1.775\n",
            "Epoch: 338 Training loss = 1.785 Validation loss = 1.774\n",
            "Epoch: 339 Training loss = 1.785 Validation loss = 1.774\n",
            "Epoch: 340 Training loss = 1.784 Validation loss = 1.773\n",
            "Epoch: 341 Training loss = 1.784 Validation loss = 1.773\n",
            "Epoch: 342 Training loss = 1.783 Validation loss = 1.772\n",
            "Epoch: 343 Training loss = 1.783 Validation loss = 1.772\n",
            "Epoch: 344 Training loss = 1.782 Validation loss = 1.772\n",
            "Epoch: 345 Training loss = 1.782 Validation loss = 1.771\n",
            "Epoch: 346 Training loss = 1.782 Validation loss = 1.771\n",
            "Epoch: 347 Training loss = 1.781 Validation loss = 1.770\n",
            "Epoch: 348 Training loss = 1.781 Validation loss = 1.770\n",
            "Epoch: 349 Training loss = 1.780 Validation loss = 1.769\n",
            "Epoch: 350 Training loss = 1.780 Validation loss = 1.769\n",
            "Epoch: 351 Training loss = 1.780 Validation loss = 1.769\n",
            "Epoch: 352 Training loss = 1.779 Validation loss = 1.768\n",
            "Epoch: 353 Training loss = 1.779 Validation loss = 1.768\n",
            "Epoch: 354 Training loss = 1.778 Validation loss = 1.767\n",
            "Epoch: 355 Training loss = 1.778 Validation loss = 1.767\n",
            "Epoch: 356 Training loss = 1.778 Validation loss = 1.766\n",
            "Epoch: 357 Training loss = 1.777 Validation loss = 1.766\n",
            "Epoch: 358 Training loss = 1.777 Validation loss = 1.766\n",
            "Epoch: 359 Training loss = 1.776 Validation loss = 1.765\n",
            "Epoch: 360 Training loss = 1.776 Validation loss = 1.765\n",
            "Epoch: 361 Training loss = 1.776 Validation loss = 1.764\n",
            "Epoch: 362 Training loss = 1.775 Validation loss = 1.764\n",
            "Epoch: 363 Training loss = 1.775 Validation loss = 1.764\n",
            "Epoch: 364 Training loss = 1.774 Validation loss = 1.763\n",
            "Epoch: 365 Training loss = 1.774 Validation loss = 1.763\n",
            "Epoch: 366 Training loss = 1.774 Validation loss = 1.762\n",
            "Epoch: 367 Training loss = 1.773 Validation loss = 1.762\n",
            "Epoch: 368 Training loss = 1.773 Validation loss = 1.762\n",
            "Epoch: 369 Training loss = 1.772 Validation loss = 1.761\n",
            "Epoch: 370 Training loss = 1.772 Validation loss = 1.761\n",
            "Epoch: 371 Training loss = 1.772 Validation loss = 1.761\n",
            "Epoch: 372 Training loss = 1.771 Validation loss = 1.760\n",
            "Epoch: 373 Training loss = 1.771 Validation loss = 1.760\n",
            "Epoch: 374 Training loss = 1.771 Validation loss = 1.759\n",
            "Epoch: 375 Training loss = 1.770 Validation loss = 1.759\n",
            "Epoch: 376 Training loss = 1.770 Validation loss = 1.759\n",
            "Epoch: 377 Training loss = 1.769 Validation loss = 1.758\n",
            "Epoch: 378 Training loss = 1.769 Validation loss = 1.758\n",
            "Epoch: 379 Training loss = 1.769 Validation loss = 1.757\n",
            "Epoch: 380 Training loss = 1.768 Validation loss = 1.757\n",
            "Epoch: 381 Training loss = 1.768 Validation loss = 1.757\n",
            "Epoch: 382 Training loss = 1.768 Validation loss = 1.756\n",
            "Epoch: 383 Training loss = 1.767 Validation loss = 1.756\n",
            "Epoch: 384 Training loss = 1.767 Validation loss = 1.756\n",
            "Epoch: 385 Training loss = 1.767 Validation loss = 1.755\n",
            "Epoch: 386 Training loss = 1.766 Validation loss = 1.755\n",
            "Epoch: 387 Training loss = 1.766 Validation loss = 1.755\n",
            "Epoch: 388 Training loss = 1.765 Validation loss = 1.754\n",
            "Epoch: 389 Training loss = 1.765 Validation loss = 1.754\n",
            "Epoch: 390 Training loss = 1.765 Validation loss = 1.753\n",
            "Epoch: 391 Training loss = 1.764 Validation loss = 1.753\n",
            "Epoch: 392 Training loss = 1.764 Validation loss = 1.753\n",
            "Epoch: 393 Training loss = 1.764 Validation loss = 1.752\n",
            "Epoch: 394 Training loss = 1.763 Validation loss = 1.752\n",
            "Epoch: 395 Training loss = 1.763 Validation loss = 1.752\n",
            "Epoch: 396 Training loss = 1.763 Validation loss = 1.751\n",
            "Epoch: 397 Training loss = 1.762 Validation loss = 1.751\n",
            "Epoch: 398 Training loss = 1.762 Validation loss = 1.751\n",
            "Epoch: 399 Training loss = 1.762 Validation loss = 1.750\n",
            "Epoch: 400 Training loss = 1.761 Validation loss = 1.750\n",
            "Epoch: 401 Training loss = 1.761 Validation loss = 1.750\n",
            "Epoch: 402 Training loss = 1.761 Validation loss = 1.749\n",
            "Epoch: 403 Training loss = 1.760 Validation loss = 1.749\n",
            "Epoch: 404 Training loss = 1.760 Validation loss = 1.749\n",
            "Epoch: 405 Training loss = 1.760 Validation loss = 1.748\n",
            "Epoch: 406 Training loss = 1.759 Validation loss = 1.748\n",
            "Epoch: 407 Training loss = 1.759 Validation loss = 1.748\n",
            "Epoch: 408 Training loss = 1.759 Validation loss = 1.747\n",
            "Epoch: 409 Training loss = 1.758 Validation loss = 1.747\n",
            "Epoch: 410 Training loss = 1.758 Validation loss = 1.747\n",
            "Epoch: 411 Training loss = 1.758 Validation loss = 1.746\n",
            "Epoch: 412 Training loss = 1.757 Validation loss = 1.746\n",
            "Epoch: 413 Training loss = 1.757 Validation loss = 1.746\n",
            "Epoch: 414 Training loss = 1.757 Validation loss = 1.745\n",
            "Epoch: 415 Training loss = 1.756 Validation loss = 1.745\n",
            "Epoch: 416 Training loss = 1.756 Validation loss = 1.745\n",
            "Epoch: 417 Training loss = 1.756 Validation loss = 1.744\n",
            "Epoch: 418 Training loss = 1.755 Validation loss = 1.744\n",
            "Epoch: 419 Training loss = 1.755 Validation loss = 1.744\n",
            "Epoch: 420 Training loss = 1.755 Validation loss = 1.743\n",
            "Epoch: 421 Training loss = 1.755 Validation loss = 1.743\n",
            "Epoch: 422 Training loss = 1.754 Validation loss = 1.743\n",
            "Epoch: 423 Training loss = 1.754 Validation loss = 1.743\n",
            "Epoch: 424 Training loss = 1.754 Validation loss = 1.742\n",
            "Epoch: 425 Training loss = 1.753 Validation loss = 1.742\n",
            "Epoch: 426 Training loss = 1.753 Validation loss = 1.742\n",
            "Epoch: 427 Training loss = 1.753 Validation loss = 1.741\n",
            "Epoch: 428 Training loss = 1.752 Validation loss = 1.741\n",
            "Epoch: 429 Training loss = 1.752 Validation loss = 1.741\n",
            "Epoch: 430 Training loss = 1.752 Validation loss = 1.740\n",
            "Epoch: 431 Training loss = 1.751 Validation loss = 1.740\n",
            "Epoch: 432 Training loss = 1.751 Validation loss = 1.740\n",
            "Epoch: 433 Training loss = 1.751 Validation loss = 1.739\n",
            "Epoch: 434 Training loss = 1.751 Validation loss = 1.739\n",
            "Epoch: 435 Training loss = 1.750 Validation loss = 1.739\n",
            "Epoch: 436 Training loss = 1.750 Validation loss = 1.739\n",
            "Epoch: 437 Training loss = 1.750 Validation loss = 1.738\n",
            "Epoch: 438 Training loss = 1.749 Validation loss = 1.738\n",
            "Epoch: 439 Training loss = 1.749 Validation loss = 1.738\n",
            "Epoch: 440 Training loss = 1.749 Validation loss = 1.737\n",
            "Epoch: 441 Training loss = 1.749 Validation loss = 1.737\n",
            "Epoch: 442 Training loss = 1.748 Validation loss = 1.737\n",
            "Epoch: 443 Training loss = 1.748 Validation loss = 1.737\n",
            "Epoch: 444 Training loss = 1.748 Validation loss = 1.736\n",
            "Epoch: 445 Training loss = 1.747 Validation loss = 1.736\n",
            "Epoch: 446 Training loss = 1.747 Validation loss = 1.736\n",
            "Epoch: 447 Training loss = 1.747 Validation loss = 1.735\n",
            "Epoch: 448 Training loss = 1.747 Validation loss = 1.735\n",
            "Epoch: 449 Training loss = 1.746 Validation loss = 1.735\n",
            "Epoch: 450 Training loss = 1.746 Validation loss = 1.734\n",
            "Epoch: 451 Training loss = 1.746 Validation loss = 1.734\n",
            "Epoch: 452 Training loss = 1.745 Validation loss = 1.734\n",
            "Epoch: 453 Training loss = 1.745 Validation loss = 1.734\n",
            "Epoch: 454 Training loss = 1.745 Validation loss = 1.733\n",
            "Epoch: 455 Training loss = 1.745 Validation loss = 1.733\n",
            "Epoch: 456 Training loss = 1.744 Validation loss = 1.733\n",
            "Epoch: 457 Training loss = 1.744 Validation loss = 1.733\n",
            "Epoch: 458 Training loss = 1.744 Validation loss = 1.732\n",
            "Epoch: 459 Training loss = 1.743 Validation loss = 1.732\n",
            "Epoch: 460 Training loss = 1.743 Validation loss = 1.732\n",
            "Epoch: 461 Training loss = 1.743 Validation loss = 1.731\n",
            "Epoch: 462 Training loss = 1.743 Validation loss = 1.731\n",
            "Epoch: 463 Training loss = 1.742 Validation loss = 1.731\n",
            "Epoch: 464 Training loss = 1.742 Validation loss = 1.731\n",
            "Epoch: 465 Training loss = 1.742 Validation loss = 1.730\n",
            "Epoch: 466 Training loss = 1.742 Validation loss = 1.730\n",
            "Epoch: 467 Training loss = 1.741 Validation loss = 1.730\n",
            "Epoch: 468 Training loss = 1.741 Validation loss = 1.730\n",
            "Epoch: 469 Training loss = 1.741 Validation loss = 1.729\n",
            "Epoch: 470 Training loss = 1.741 Validation loss = 1.729\n",
            "Epoch: 471 Training loss = 1.740 Validation loss = 1.729\n",
            "Epoch: 472 Training loss = 1.740 Validation loss = 1.728\n",
            "Epoch: 473 Training loss = 1.740 Validation loss = 1.728\n",
            "Epoch: 474 Training loss = 1.739 Validation loss = 1.728\n",
            "Epoch: 475 Training loss = 1.739 Validation loss = 1.728\n",
            "Epoch: 476 Training loss = 1.739 Validation loss = 1.727\n",
            "Epoch: 477 Training loss = 1.739 Validation loss = 1.727\n",
            "Epoch: 478 Training loss = 1.738 Validation loss = 1.727\n",
            "Epoch: 479 Training loss = 1.738 Validation loss = 1.727\n",
            "Epoch: 480 Training loss = 1.738 Validation loss = 1.726\n",
            "Epoch: 481 Training loss = 1.738 Validation loss = 1.726\n",
            "Epoch: 482 Training loss = 1.737 Validation loss = 1.726\n",
            "Epoch: 483 Training loss = 1.737 Validation loss = 1.726\n",
            "Epoch: 484 Training loss = 1.737 Validation loss = 1.725\n",
            "Epoch: 485 Training loss = 1.737 Validation loss = 1.725\n",
            "Epoch: 486 Training loss = 1.736 Validation loss = 1.725\n",
            "Epoch: 487 Training loss = 1.736 Validation loss = 1.725\n",
            "Epoch: 488 Training loss = 1.736 Validation loss = 1.724\n",
            "Epoch: 489 Training loss = 1.736 Validation loss = 1.724\n",
            "Epoch: 490 Training loss = 1.735 Validation loss = 1.724\n",
            "Epoch: 491 Training loss = 1.735 Validation loss = 1.724\n",
            "Epoch: 492 Training loss = 1.735 Validation loss = 1.723\n",
            "Epoch: 493 Training loss = 1.735 Validation loss = 1.723\n",
            "Epoch: 494 Training loss = 1.734 Validation loss = 1.723\n",
            "Epoch: 495 Training loss = 1.734 Validation loss = 1.723\n",
            "Epoch: 496 Training loss = 1.734 Validation loss = 1.722\n",
            "Epoch: 497 Training loss = 1.734 Validation loss = 1.722\n",
            "Epoch: 498 Training loss = 1.733 Validation loss = 1.722\n",
            "Epoch: 499 Training loss = 1.733 Validation loss = 1.722\n",
            "Epoch: 500 Training loss = 1.733 Validation loss = 1.721\n"
          ],
          "name": "stdout"
        }
      ]
    },
    {
      "cell_type": "code",
      "metadata": {
        "id": "WUEbmeRe0UY_",
        "colab_type": "code",
        "colab": {
          "base_uri": "https://localhost:8080/",
          "height": 68
        },
        "outputId": "b25e98ee-57dd-4a7f-df57-6c5e3e22b856"
      },
      "source": [
        "#<predict & evaluate on test here, right? No cheating pls.>\n",
        "print(\"Training Accuracy: \",sess.run(accuracy, feed_dict={input_X: X_train, input_y: y_train_enc}))\n",
        "print(\"Validation Accuracy: \",sess.run(accuracy, feed_dict={input_X: X_val, input_y: y_val_enc}))\n",
        "print(\"Testing Accuracy: \",sess.run(accuracy, feed_dict={input_X: X_test, input_y: y_test_enc}))"
      ],
      "execution_count": 49,
      "outputs": [
        {
          "output_type": "stream",
          "text": [
            "Training Accuracy:  0.71256\n",
            "Validation Accuracy:  0.7361\n",
            "Testing Accuracy:  0.7169\n"
          ],
          "name": "stdout"
        }
      ]
    },
    {
      "cell_type": "markdown",
      "metadata": {
        "id": "vLGELNoe0UZJ",
        "colab_type": "text"
      },
      "source": [
        "```\n",
        "\n",
        "```\n",
        "\n",
        "```\n",
        "\n",
        "```\n",
        "\n",
        "```\n",
        "\n",
        "```\n",
        "\n",
        "```\n",
        "\n",
        "```\n",
        "\n",
        "```\n",
        "\n",
        "```\n",
        "\n",
        "```\n",
        "\n",
        "```\n",
        "\n",
        "```\n",
        "\n",
        "```\n",
        "\n",
        "```\n",
        "\n",
        "```\n",
        "\n",
        "\n",
        "# SPOILERS!\n",
        "\n",
        "Recommended pipeline\n",
        "\n",
        "* Adapt logistic regression from previous assignment to classify some number against others (e.g. zero vs nonzero)\n",
        "* Generalize it to multiclass logistic regression.\n",
        "  - Either try to remember lecture 0 or google it.\n",
        "  - Instead of weight vector you'll have to use matrix (feature_id x class_id)\n",
        "  - softmax (exp over sum of exps) can implemented manually or as T.nnet.softmax (stable)\n",
        "  - probably better to use STOCHASTIC gradient descent (minibatch)\n",
        "    - in which case sample should probably be shuffled (or use random subsamples on each iteration)\n",
        "* Add a hidden layer. Now your logistic regression uses hidden neurons instead of inputs.\n",
        "  - Hidden layer uses the same math as output layer (ex-logistic regression), but uses some nonlinearity (sigmoid) instead of softmax\n",
        "  - You need to train both layers, not just output layer :)\n",
        "  - Do not initialize layers with zeros (due to symmetry effects). A gaussian noize with small sigma will do.\n",
        "  - 50 hidden neurons and a sigmoid nonlinearity will do for a start. Many ways to improve. \n",
        "  - In ideal casae this totals to 2 .dot's, 1 softmax and 1 sigmoid\n",
        "  - __make sure this neural network works better than logistic regression__\n",
        "  \n",
        "* Now's the time to try improving the network. Consider layers (size, neuron count),  nonlinearities, optimization methods, initialization - whatever you want, but please avoid convolutions for now."
      ]
    }
  ]
}