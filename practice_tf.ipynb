{
  "nbformat": 4,
  "nbformat_minor": 0,
  "metadata": {
    "kernelspec": {
      "display_name": "Python 3",
      "language": "python",
      "name": "python3"
    },
    "language_info": {
      "codemirror_mode": {
        "name": "ipython",
        "version": 3
      },
      "file_extension": ".py",
      "mimetype": "text/x-python",
      "name": "python",
      "nbconvert_exporter": "python",
      "pygments_lexer": "ipython3",
      "version": "3.5.2"
    },
    "colab": {
      "name": "practice_tf.ipynb",
      "provenance": [],
      "collapsed_sections": [],
      "include_colab_link": true
    }
  },
  "cells": [
    {
      "cell_type": "markdown",
      "metadata": {
        "id": "view-in-github",
        "colab_type": "text"
      },
      "source": [
        "<a href=\"https://colab.research.google.com/github/skozh/RL/blob/master/practice_tf.ipynb\" target=\"_parent\"><img src=\"https://colab.research.google.com/assets/colab-badge.svg\" alt=\"Open In Colab\"/></a>"
      ]
    },
    {
      "cell_type": "code",
      "metadata": {
        "id": "rbOOFIbe0aoz",
        "colab_type": "code",
        "colab": {
          "base_uri": "https://localhost:8080/",
          "height": 136
        },
        "outputId": "d8de2d6f-7820-42b9-f666-2951b78556a2"
      },
      "source": [
        "import sys, os\n",
        "if 'google.colab' in sys.modules and not os.path.exists('.setup_complete'):\n",
        "    # https://github.com/yandexdataschool/Practical_RL/issues/256\n",
        "    #!pip install tensorflow-gpu==1.13.1\n",
        "    \n",
        "    !wget -q https://raw.githubusercontent.com/yandexdataschool/Practical_RL/spring20/setup_colab.sh -O- | bash\n",
        "\n",
        "    !wget -q https://raw.githubusercontent.com/yandexdataschool/Practical_RL/coursera/grading.py -O ../grading.py\n",
        "    !wget -q https://raw.githubusercontent.com/yandexdataschool/Practical_RL/coursera/week6_outro/seq2seq/submit.py\n",
        "    !wget -q https://raw.githubusercontent.com/yandexdataschool/Practical_RL/coursera/week6_outro/seq2seq/basic_model_tf.py\n",
        "    !wget -q https://raw.githubusercontent.com/yandexdataschool/Practical_RL/coursera/week6_outro/seq2seq/he-pron-wiktionary.txt\n",
        "    !wget -q https://raw.githubusercontent.com/yandexdataschool/Practical_RL/coursera/week6_outro/seq2seq/main_dataset.txt\n",
        "    !wget -q https://raw.githubusercontent.com/yandexdataschool/Practical_RL/coursera/week6_outro/seq2seq/voc.py\n",
        "\n",
        "    !touch .setup_complete\n",
        "\n",
        "# This code creates a virtual display to draw game images on.\n",
        "# It will have no effect if your machine has a monitor.\n",
        "if type(os.environ.get(\"DISPLAY\")) is not str or len(os.environ.get(\"DISPLAY\")) == 0:\n",
        "    !bash ../xvfb start\n",
        "    os.environ['DISPLAY'] = ':1'"
      ],
      "execution_count": 1,
      "outputs": [
        {
          "output_type": "stream",
          "text": [
            "Selecting previously unselected package xvfb.\n",
            "(Reading database ... 144487 files and directories currently installed.)\n",
            "Preparing to unpack .../xvfb_2%3a1.19.6-1ubuntu4.4_amd64.deb ...\n",
            "Unpacking xvfb (2:1.19.6-1ubuntu4.4) ...\n",
            "Setting up xvfb (2:1.19.6-1ubuntu4.4) ...\n",
            "Processing triggers for man-db (2.8.3-2ubuntu0.1) ...\n",
            "Starting virtual X frame buffer: Xvfb.\n"
          ],
          "name": "stdout"
        }
      ]
    },
    {
      "cell_type": "code",
      "metadata": {
        "id": "aMLmR7DfnvIB",
        "colab_type": "code",
        "colab": {
          "base_uri": "https://localhost:8080/",
          "height": 734
        },
        "outputId": "99d9075a-15fc-41d3-daea-df139c6515eb"
      },
      "source": [
        "!pip install tensorflow-gpu==1.13.1\n",
        "%tensorflow_version 1.x"
      ],
      "execution_count": 2,
      "outputs": [
        {
          "output_type": "stream",
          "text": [
            "Collecting tensorflow-gpu==1.13.1\n",
            "\u001b[?25l  Downloading https://files.pythonhosted.org/packages/7b/b1/0ad4ae02e17ddd62109cd54c291e311c4b5fd09b4d0678d3d6ce4159b0f0/tensorflow_gpu-1.13.1-cp36-cp36m-manylinux1_x86_64.whl (345.2MB)\n",
            "\u001b[K     |████████████████████████████████| 345.2MB 46kB/s \n",
            "\u001b[?25hRequirement already satisfied: numpy>=1.13.3 in /usr/local/lib/python3.6/dist-packages (from tensorflow-gpu==1.13.1) (1.18.5)\n",
            "Requirement already satisfied: absl-py>=0.1.6 in /usr/local/lib/python3.6/dist-packages (from tensorflow-gpu==1.13.1) (0.9.0)\n",
            "Collecting tensorboard<1.14.0,>=1.13.0\n",
            "\u001b[?25l  Downloading https://files.pythonhosted.org/packages/0f/39/bdd75b08a6fba41f098b6cb091b9e8c7a80e1b4d679a581a0ccd17b10373/tensorboard-1.13.1-py3-none-any.whl (3.2MB)\n",
            "\u001b[K     |████████████████████████████████| 3.2MB 44.4MB/s \n",
            "\u001b[?25hRequirement already satisfied: astor>=0.6.0 in /usr/local/lib/python3.6/dist-packages (from tensorflow-gpu==1.13.1) (0.8.1)\n",
            "Requirement already satisfied: gast>=0.2.0 in /usr/local/lib/python3.6/dist-packages (from tensorflow-gpu==1.13.1) (0.3.3)\n",
            "Requirement already satisfied: grpcio>=1.8.6 in /usr/local/lib/python3.6/dist-packages (from tensorflow-gpu==1.13.1) (1.31.0)\n",
            "Collecting tensorflow-estimator<1.14.0rc0,>=1.13.0\n",
            "\u001b[?25l  Downloading https://files.pythonhosted.org/packages/bb/48/13f49fc3fa0fdf916aa1419013bb8f2ad09674c275b4046d5ee669a46873/tensorflow_estimator-1.13.0-py2.py3-none-any.whl (367kB)\n",
            "\u001b[K     |████████████████████████████████| 368kB 45.6MB/s \n",
            "\u001b[?25hRequirement already satisfied: keras-preprocessing>=1.0.5 in /usr/local/lib/python3.6/dist-packages (from tensorflow-gpu==1.13.1) (1.1.2)\n",
            "Requirement already satisfied: six>=1.10.0 in /usr/local/lib/python3.6/dist-packages (from tensorflow-gpu==1.13.1) (1.15.0)\n",
            "Requirement already satisfied: wheel>=0.26 in /usr/local/lib/python3.6/dist-packages (from tensorflow-gpu==1.13.1) (0.34.2)\n",
            "Requirement already satisfied: termcolor>=1.1.0 in /usr/local/lib/python3.6/dist-packages (from tensorflow-gpu==1.13.1) (1.1.0)\n",
            "Collecting keras-applications>=1.0.6\n",
            "\u001b[?25l  Downloading https://files.pythonhosted.org/packages/71/e3/19762fdfc62877ae9102edf6342d71b28fbfd9dea3d2f96a882ce099b03f/Keras_Applications-1.0.8-py3-none-any.whl (50kB)\n",
            "\u001b[K     |████████████████████████████████| 51kB 7.4MB/s \n",
            "\u001b[?25hRequirement already satisfied: protobuf>=3.6.1 in /usr/local/lib/python3.6/dist-packages (from tensorflow-gpu==1.13.1) (3.12.4)\n",
            "Requirement already satisfied: werkzeug>=0.11.15 in /usr/local/lib/python3.6/dist-packages (from tensorboard<1.14.0,>=1.13.0->tensorflow-gpu==1.13.1) (1.0.1)\n",
            "Requirement already satisfied: markdown>=2.6.8 in /usr/local/lib/python3.6/dist-packages (from tensorboard<1.14.0,>=1.13.0->tensorflow-gpu==1.13.1) (3.2.2)\n",
            "Collecting mock>=2.0.0\n",
            "  Downloading https://files.pythonhosted.org/packages/cd/74/d72daf8dff5b6566db857cfd088907bb0355f5dd2914c4b3ef065c790735/mock-4.0.2-py3-none-any.whl\n",
            "Requirement already satisfied: h5py in /usr/local/lib/python3.6/dist-packages (from keras-applications>=1.0.6->tensorflow-gpu==1.13.1) (2.10.0)\n",
            "Requirement already satisfied: setuptools in /usr/local/lib/python3.6/dist-packages (from protobuf>=3.6.1->tensorflow-gpu==1.13.1) (49.2.0)\n",
            "Requirement already satisfied: importlib-metadata; python_version < \"3.8\" in /usr/local/lib/python3.6/dist-packages (from markdown>=2.6.8->tensorboard<1.14.0,>=1.13.0->tensorflow-gpu==1.13.1) (1.7.0)\n",
            "Requirement already satisfied: zipp>=0.5 in /usr/local/lib/python3.6/dist-packages (from importlib-metadata; python_version < \"3.8\"->markdown>=2.6.8->tensorboard<1.14.0,>=1.13.0->tensorflow-gpu==1.13.1) (3.1.0)\n",
            "\u001b[31mERROR: tensorflow 2.3.0 has requirement tensorboard<3,>=2.3.0, but you'll have tensorboard 1.13.1 which is incompatible.\u001b[0m\n",
            "\u001b[31mERROR: tensorflow 2.3.0 has requirement tensorflow-estimator<2.4.0,>=2.3.0, but you'll have tensorflow-estimator 1.13.0 which is incompatible.\u001b[0m\n",
            "Installing collected packages: tensorboard, mock, tensorflow-estimator, keras-applications, tensorflow-gpu\n",
            "  Found existing installation: tensorboard 2.3.0\n",
            "    Uninstalling tensorboard-2.3.0:\n",
            "      Successfully uninstalled tensorboard-2.3.0\n",
            "  Found existing installation: tensorflow-estimator 2.3.0\n",
            "    Uninstalling tensorflow-estimator-2.3.0:\n",
            "      Successfully uninstalled tensorflow-estimator-2.3.0\n",
            "Successfully installed keras-applications-1.0.8 mock-4.0.2 tensorboard-1.13.1 tensorflow-estimator-1.13.0 tensorflow-gpu-1.13.1\n",
            "TensorFlow 1.x selected.\n"
          ],
          "name": "stdout"
        }
      ]
    },
    {
      "cell_type": "markdown",
      "metadata": {
        "id": "s85FRSFsmvAL",
        "colab_type": "text"
      },
      "source": [
        "## Reinforcement Learning for seq2seq\n",
        "\n",
        "This time we'll solve a problem of transribing hebrew words in english, also known as g2p (grapheme2phoneme)\n",
        "\n",
        " * word (sequence of letters in source language) -> translation (sequence of letters in target language)\n",
        "\n",
        "Unlike most deep learning researchers do, we won't only train it to maximize likelihood of correct translation, but also employ reinforcement learning to actually teach it to translate with as few errors as possible.\n",
        "\n",
        "\n",
        "### About the task\n",
        "\n",
        "One notable property of Hebrew is that it's consonant language. That is, there are no wovels in the written language. One could represent wovels with diacritics above consonants, but you don't expect people to do that in everyay life.\n",
        "\n",
        "Therefore, some hebrew characters will correspond to several english letters and others - to none, so we should use encoder-decoder architecture to figure that out.\n",
        "\n",
        "![img](https://esciencegroup.files.wordpress.com/2016/03/seq2seq.jpg)\n",
        "_(img: esciencegroup.files.wordpress.com)_\n",
        "\n",
        "Encoder-decoder architectures are about converting anything to anything, including\n",
        " * Machine translation and spoken dialogue systems\n",
        " * [Image captioning](http://mscoco.org/dataset/#captions-challenge2015) and [image2latex](https://openai.com/requests-for-research/#im2latex) (convolutional encoder, recurrent decoder)\n",
        " * Generating [images by captions](https://arxiv.org/abs/1511.02793) (recurrent encoder, convolutional decoder)\n",
        " * Grapheme2phoneme - convert words to transcripts\n",
        "  \n",
        "We chose simplified __Hebrew->English__ machine translation for words and short phrases (character-level), as it is relatively quick to train even without a gpu cluster."
      ]
    },
    {
      "cell_type": "code",
      "metadata": {
        "id": "NEAQY7xMmvAN",
        "colab_type": "code",
        "colab": {}
      },
      "source": [
        "EASY_MODE = True        #If True, only translates phrases shorter than 20 characters (way easier).\n",
        "                        #Useful for initial coding.\n",
        "                        #If false, works with all phrases (please switch to this mode for homework assignment)\n",
        "\n",
        "MODE = \"he-to-en\"                                #way we translate. Either \"he-to-en\" or \"en-to-he\"\n",
        "MAX_OUTPUT_LENGTH = 50 if not EASY_MODE else 20  #maximal length of _generated_ output, does not affect training\n",
        "REPORT_FREQ       = 100                          #how often to evaluate validation score"
      ],
      "execution_count": 3,
      "outputs": []
    },
    {
      "cell_type": "markdown",
      "metadata": {
        "id": "6Xlfh_RVmvAT",
        "colab_type": "text"
      },
      "source": [
        "### Step 1: preprocessing\n",
        "\n",
        "We shall store dataset as a dictionary\n",
        "`{ word1:[translation1,translation2,...], word2:[...],...}`.\n",
        "\n",
        "This is mostly due to the fact that many words have several correct translations.\n",
        "\n",
        "We have implemented this thing for you so that you can focus on more interesting parts.\n",
        "\n",
        "\n",
        "__Attention python2 users!__ You may want to cast everything to unicode later during homework phase, just make sure you do it _everywhere_."
      ]
    },
    {
      "cell_type": "code",
      "metadata": {
        "id": "VN6ftIURmvAT",
        "colab_type": "code",
        "colab": {
          "base_uri": "https://localhost:8080/",
          "height": 34
        },
        "outputId": "d2973b7d-306d-4d10-d993-5063102bd882"
      },
      "source": [
        "import numpy as np\n",
        "from collections import defaultdict\n",
        "word_to_translation = defaultdict(list) #our dictionary\n",
        "\n",
        "bos = '_'\n",
        "eos = ';'\n",
        "\n",
        "with open(\"main_dataset.txt\") as fin:\n",
        "    for line in fin:\n",
        "        \n",
        "        en,he = line[:-1].lower().replace(bos,' ').replace(eos,' ').split('\\t')\n",
        "        word,trans = (he,en) if MODE=='he-to-en' else (en,he)\n",
        "        \n",
        "        if len(word) < 3: continue\n",
        "        if EASY_MODE:\n",
        "            if max(len(word),len(trans))>20:\n",
        "                continue\n",
        "        \n",
        "        word_to_translation[word].append(trans)\n",
        "    \n",
        "print (\"size = \",len(word_to_translation))"
      ],
      "execution_count": 4,
      "outputs": [
        {
          "output_type": "stream",
          "text": [
            "size =  130113\n"
          ],
          "name": "stdout"
        }
      ]
    },
    {
      "cell_type": "code",
      "metadata": {
        "id": "7YzHRamhmvAZ",
        "colab_type": "code",
        "colab": {
          "base_uri": "https://localhost:8080/",
          "height": 51
        },
        "outputId": "a7f983de-9ad6-4962-9f6f-3b3c435c1513"
      },
      "source": [
        "#get all unique lines in source language\n",
        "all_words = np.array(list(word_to_translation.keys()))\n",
        "# get all unique lines in translation language\n",
        "all_translations = np.array([ts for all_ts in word_to_translation.values() for ts in all_ts])\n",
        "\n",
        "print(all_words[1])\n",
        "print(all_translations[1])"
      ],
      "execution_count": 5,
      "outputs": [
        {
          "output_type": "stream",
          "text": [
            "אוטיזם קלאסי\n",
            "hogeye/anarchism\n"
          ],
          "name": "stdout"
        }
      ]
    },
    {
      "cell_type": "markdown",
      "metadata": {
        "id": "we4Dtt-AmvAe",
        "colab_type": "text"
      },
      "source": [
        "### split the dataset\n",
        "\n",
        "We hold out 10% of all words to be used for validation.\n"
      ]
    },
    {
      "cell_type": "code",
      "metadata": {
        "scrolled": true,
        "id": "O6267tn7mvAf",
        "colab_type": "code",
        "colab": {}
      },
      "source": [
        "from sklearn.model_selection import train_test_split\n",
        "train_words,test_words = train_test_split(all_words,test_size=0.1,random_state=42)"
      ],
      "execution_count": 6,
      "outputs": []
    },
    {
      "cell_type": "markdown",
      "metadata": {
        "id": "AAp5aOFpmvAk",
        "colab_type": "text"
      },
      "source": [
        "### Building vocabularies\n",
        "\n",
        "We now need to build vocabularies that map strings to token ids and vice versa. We're gonna need these fellas when we feed training data into model or convert output matrices into english words."
      ]
    },
    {
      "cell_type": "code",
      "metadata": {
        "id": "xZLRN75emvAl",
        "colab_type": "code",
        "colab": {}
      },
      "source": [
        "from voc import Vocab\n",
        "inp_voc = Vocab.from_lines(''.join(all_words), bos=bos, eos=eos, sep='')\n",
        "out_voc = Vocab.from_lines(''.join(all_translations), bos=bos, eos=eos, sep='')"
      ],
      "execution_count": 7,
      "outputs": []
    },
    {
      "cell_type": "code",
      "metadata": {
        "id": "o277OLxYmvAq",
        "colab_type": "code",
        "colab": {
          "base_uri": "https://localhost:8080/",
          "height": 221
        },
        "outputId": "e4062418-8bd2-41e8-98ab-0ac113d09cbd"
      },
      "source": [
        "# Here's how you cast lines into ids and backwards.\n",
        "batch_lines = all_translations[:5]\n",
        "batch_ids = out_voc.to_matrix(batch_lines)\n",
        "batch_lines_restored = out_voc.to_lines(batch_ids)\n",
        "\n",
        "print(\"lines\")\n",
        "print(batch_lines)\n",
        "print(\"\\nwords to ids (0 = bos, 1 = eos):\")\n",
        "print(batch_ids)\n",
        "print(\"\\nback to words\")\n",
        "print(batch_lines_restored)"
      ],
      "execution_count": 8,
      "outputs": [
        {
          "output_type": "stream",
          "text": [
            "lines\n",
            "['anarchism' 'hogeye/anarchism' 'dstuartnz/sandbox' 'autism' 'albedo']\n",
            "\n",
            "words to ids (0 = bos, 1 = eos):\n",
            "[[ 0 33 46 33 50 35 40 41 51 45  1  1  1  1  1  1  1  1  1]\n",
            " [ 0 40 47 39 37 57 37 16 33 46 33 50 35 40 41 51 45  1  1]\n",
            " [ 0 36 51 52 53 33 50 52 46 58 16 51 33 46 36 34 47 56  1]\n",
            " [ 0 33 53 52 41 51 45  1  1  1  1  1  1  1  1  1  1  1  1]\n",
            " [ 0 33 44 34 37 36 47  1  1  1  1  1  1  1  1  1  1  1  1]]\n",
            "\n",
            "back to words\n",
            "['anarchism', 'hogeye/anarchism', 'dstuartnz/sandbox', 'autism', 'albedo']\n"
          ],
          "name": "stdout"
        }
      ]
    },
    {
      "cell_type": "markdown",
      "metadata": {
        "id": "19Qh1KZWmvAx",
        "colab_type": "text"
      },
      "source": [
        "Draw word/translation length distributions to estimate the scope of the task."
      ]
    },
    {
      "cell_type": "code",
      "metadata": {
        "id": "IM8Og9VAmvAy",
        "colab_type": "code",
        "colab": {
          "base_uri": "https://localhost:8080/",
          "height": 281
        },
        "outputId": "c3909409-ddbe-46ea-8070-4327a7df3aa0"
      },
      "source": [
        "import matplotlib.pyplot as plt\n",
        "%matplotlib inline\n",
        "plt.figure(figsize=[8,4])\n",
        "plt.subplot(1,2,1)\n",
        "plt.title(\"words\")\n",
        "plt.hist(list(map(len,all_words)),bins=20);\n",
        "\n",
        "plt.subplot(1,2,2)\n",
        "plt.title('translations')\n",
        "plt.hist(list(map(len,all_translations)),bins=20);\n"
      ],
      "execution_count": 9,
      "outputs": [
        {
          "output_type": "display_data",
          "data": {
            "image/png": "[encoded data removed]",
            "text/plain": [
              "<Figure size 576x288 with 2 Axes>"
            ]
          },
          "metadata": {
            "tags": [],
            "needs_background": "light"
          }
        }
      ]
    },
    {
      "cell_type": "markdown",
      "metadata": {
        "id": "ObzE9ThmmvA3",
        "colab_type": "text"
      },
      "source": [
        "### Step 3: deploy encoder-decoder\n",
        "\n",
        "__assignment starts here__\n",
        "\n",
        "Our architecture consists of two main blocks:\n",
        "* Encoder reads words character by character and outputs code vector (usually a function of last RNN state)\n",
        "* Decoder takes that code vector and produces translations character by character\n",
        "\n",
        "Than it gets fed into a model that follows this simple interface:\n",
        "* __`model.symbolic_translate(inp, **flags) -> out, logp`__ - takes symbolic int32 matrix of hebrew words, produces output tokens sampled from the model and output log-probabilities for all possible tokens at each tick.\n",
        "* __`model.symbolic_score(inp, out, **flags) -> logp`__ - takes symbolic int32 matrices of hebrew words and their english translations. Computes the log-probabilities of all possible english characters given english prefices and hebrew word.\n",
        "* __`model.weights`__ - weights from all model layers [a list of variables]\n",
        "\n",
        "That's all! It's as hard as it gets. With those two methods alone you can implement all kinds of prediction and training."
      ]
    },
    {
      "cell_type": "code",
      "metadata": {
        "id": "RZtopRHRmvA4",
        "colab_type": "code",
        "colab": {}
      },
      "source": [
        "import tensorflow as tf\n",
        "tf.reset_default_graph()\n",
        "s = tf.InteractiveSession()\n",
        "\n",
        "# ^^^ if you get \"variable *** already exists\": re-run this cell again"
      ],
      "execution_count": 10,
      "outputs": []
    },
    {
      "cell_type": "code",
      "metadata": {
        "id": "WBPbDRH0QCEd",
        "colab_type": "code",
        "colab": {
          "base_uri": "https://localhost:8080/",
          "height": 34
        },
        "outputId": "55f8a198-03f9-4cb8-87bb-e6c8879d5cea"
      },
      "source": [
        "import keras.layers as L\n",
        "class BasicTranslationModel:\n",
        "    def __init__(self, name, inp_voc, out_voc,\n",
        "                 emb_size, hid_size,):\n",
        "\n",
        "        self.name = name\n",
        "        self.inp_voc = inp_voc\n",
        "        self.out_voc = out_voc\n",
        "\n",
        "        with tf.variable_scope(name):\n",
        "            self.emb_inp = L.Embedding(len(inp_voc), emb_size)\n",
        "            self.emb_out = L.Embedding(len(out_voc), emb_size)\n",
        "            self.enc0 = tf.nn.rnn_cell.GRUCell(hid_size)\n",
        "            self.dec_start = L.Dense(hid_size)\n",
        "            self.dec0 = tf.nn.rnn_cell.GRUCell(hid_size)\n",
        "            self.logits = L.Dense(len(out_voc))\n",
        "\n",
        "            # run on dummy output to .build all layers (and therefore create\n",
        "            # weights)\n",
        "            inp = tf.placeholder('int32', [None, None])\n",
        "            out = tf.placeholder('int32', [None, None])\n",
        "            h0 = self.encode(inp)\n",
        "            h1 = self.decode(h0, out[:, 0])\n",
        "            # h2 = self.decode(h1,out[:,1]) etc.\n",
        "\n",
        "        self.weights = tf.get_collection(\n",
        "            tf.GraphKeys.TRAINABLE_VARIABLES, scope=name)\n",
        "\n",
        "    def encode(self, inp, **flags):\n",
        "        \"\"\"\n",
        "        Takes symbolic input sequence, computes initial state\n",
        "        :param inp: matrix of input tokens [batch, time]\n",
        "        :return: a list of initial decoder state tensors\n",
        "        \"\"\"\n",
        "        inp_lengths = infer_length(inp, self.inp_voc.eos_ix)\n",
        "        inp_emb = self.emb_inp(inp)\n",
        "\n",
        "        _, enc_last = tf.nn.dynamic_rnn(\n",
        "            self.enc0, inp_emb,\n",
        "            sequence_length=inp_lengths,\n",
        "            dtype=inp_emb.dtype)\n",
        "\n",
        "        dec_start = self.dec_start(enc_last)\n",
        "        return [dec_start]\n",
        "\n",
        "    def decode(self, prev_state, prev_tokens, **flags):\n",
        "        \"\"\"\n",
        "        Takes previous decoder state and tokens, returns new state and logits\n",
        "        :param prev_state: a list of previous decoder state tensors\n",
        "        :param prev_tokens: previous output tokens, an int vector of [batch_size]\n",
        "        :return: a list of next decoder state tensors, a tensor of logits [batch,n_tokens]\n",
        "        \"\"\"\n",
        "\n",
        "        [prev_dec] = prev_state\n",
        "\n",
        "        prev_emb = self.emb_out(prev_tokens[:, None])[:, 0]\n",
        "\n",
        "        new_dec_out, new_dec_state = self.dec0(prev_emb, prev_dec)\n",
        "\n",
        "        output_logits = self.logits(new_dec_out)\n",
        "\n",
        "        return [new_dec_state], output_logits\n",
        "\n",
        "    def symbolic_score(self, inp, out, eps=1e-30, **flags):\n",
        "        \"\"\"\n",
        "        Takes symbolic int32 matrices of hebrew words and their english translations.\n",
        "        Computes the log-probabilities of all possible english characters given english prefices and hebrew word.\n",
        "        :param inp: input sequence, int32 matrix of shape [batch,time]\n",
        "        :param out: output sequence, int32 matrix of shape [batch,time]\n",
        "        :return: log-probabilities of all possible english characters of shape [bath,time,n_tokens]\n",
        "\n",
        "        NOTE: log-probabilities time axis  is synchronized with out\n",
        "        In other words, logp are probabilities of __current__ output at each tick, not the next one\n",
        "        therefore you can get likelihood as logprobas * tf.one_hot(out,n_tokens)\n",
        "        \"\"\"\n",
        "        first_state = self.encode(inp, **flags)\n",
        "\n",
        "        batch_size = tf.shape(inp)[0]\n",
        "        bos = tf.fill([batch_size], self.out_voc.bos_ix)\n",
        "        first_logits = tf.log(tf.one_hot(bos, len(self.out_voc)) + eps)\n",
        "\n",
        "        def step(blob, y_prev):\n",
        "            h_prev = blob[:-1]\n",
        "            h_new, logits = self.decode(h_prev, y_prev, **flags)\n",
        "            return list(h_new) + [logits]\n",
        "\n",
        "        results = tf.scan(step, initializer=list(first_state) + [first_logits],\n",
        "                          elems=tf.transpose(out))\n",
        "\n",
        "        # gather state and logits, each of shape [time,batch,...]\n",
        "        states_seq, logits_seq = results[:-1], results[-1]\n",
        "\n",
        "        # add initial state and logits\n",
        "        logits_seq = tf.concat((first_logits[None], logits_seq), axis=0)\n",
        "\n",
        "        # convert from [time,batch,...] to [batch,time,...]\n",
        "        logits_seq = tf.transpose(logits_seq, [1, 0, 2])\n",
        "\n",
        "        return tf.nn.log_softmax(logits_seq)\n",
        "\n",
        "    def symbolic_translate(\n",
        "            self,\n",
        "            inp,\n",
        "            greedy=False,\n",
        "            max_len=None,\n",
        "            eps=1e-30,\n",
        "            **flags):\n",
        "        \"\"\"\n",
        "        takes symbolic int32 matrix of hebrew words, produces output tokens sampled\n",
        "        from the model and output log-probabilities for all possible tokens at each tick.\n",
        "        :param inp: input sequence, int32 matrix of shape [batch,time]\n",
        "        :param greedy: if greedy, takes token with highest probablity at each tick.\n",
        "            Otherwise samples proportionally to probability.\n",
        "        :param max_len: max length of output, defaults to 2 * input length\n",
        "        :return: output tokens int32[batch,time] and\n",
        "                 log-probabilities of all tokens at each tick, [batch,time,n_tokens]\n",
        "        \"\"\"\n",
        "        first_state = self.encode(inp, **flags)\n",
        "\n",
        "        batch_size = tf.shape(inp)[0]\n",
        "        bos = tf.fill([batch_size], self.out_voc.bos_ix)\n",
        "        first_logits = tf.log(tf.one_hot(bos, len(self.out_voc)) + eps)\n",
        "        max_len = tf.reduce_max(tf.shape(inp)[1]) * 2\n",
        "\n",
        "        def step(blob, t):\n",
        "            h_prev, y_prev = blob[:-2], blob[-1]\n",
        "            h_new, logits = self.decode(h_prev, y_prev, **flags)\n",
        "            y_new = (\n",
        "                tf.argmax(logits, axis=-1) if greedy\n",
        "                else tf.multinomial(logits, 1)[:, 0]\n",
        "            )\n",
        "            return list(h_new) + [logits, tf.cast(y_new, y_prev.dtype)]\n",
        "\n",
        "        results = tf.scan(\n",
        "            step,\n",
        "            initializer=list(first_state) + [first_logits, bos],\n",
        "            elems=[tf.range(max_len)],\n",
        "        )\n",
        "\n",
        "        # gather state, logits and outs, each of shape [time,batch,...]\n",
        "        states_seq, logits_seq, out_seq = (\n",
        "            results[:-2], results[-2], results[-1]\n",
        "        )\n",
        "\n",
        "        # add initial state, logits and out\n",
        "        logits_seq = tf.concat((first_logits[None], logits_seq), axis=0)\n",
        "        out_seq = tf.concat((bos[None], out_seq), axis=0)\n",
        "        states_seq = [\n",
        "            tf.concat((init[None], states), axis=0)\n",
        "            for init, states in zip(first_state, states_seq)\n",
        "        ]\n",
        "\n",
        "        # convert from [time,batch,...] to [batch,time,...]\n",
        "        logits_seq = tf.transpose(logits_seq, [1, 0, 2])\n",
        "        out_seq = tf.transpose(out_seq)\n",
        "        states_seq = [\n",
        "            tf.transpose(states, [1, 0] + list(range(2, states.shape.ndims)))\n",
        "            for states in states_seq\n",
        "        ]\n",
        "\n",
        "        return out_seq, tf.nn.log_softmax(logits_seq)\n",
        "\n",
        "\n",
        "### Utility functions ###\n",
        "\n",
        "def initialize_uninitialized(sess=None):\n",
        "    \"\"\"\n",
        "    Initialize unitialized variables, doesn't affect those already initialized\n",
        "    :param sess: in which session to initialize stuff. Defaults to tf.get_default_session()\n",
        "    \"\"\"\n",
        "    sess = sess or tf.get_default_session()\n",
        "    global_vars = tf.global_variables()\n",
        "    is_not_initialized = sess.run(\n",
        "        [tf.is_variable_initialized(var) for var in global_vars]\n",
        "    )\n",
        "    not_initialized_vars = [\n",
        "        v for (v, f)\n",
        "        in zip(global_vars, is_not_initialized)\n",
        "        if not f\n",
        "    ]\n",
        "\n",
        "    if len(not_initialized_vars):\n",
        "        sess.run(tf.variables_initializer(not_initialized_vars))\n",
        "\n",
        "\n",
        "def infer_length(seq, eos_ix, time_major=False, dtype=tf.int32):\n",
        "    \"\"\"\n",
        "    compute length given output indices and eos code\n",
        "    :param seq: tf matrix [time,batch] if time_major else [batch,time]\n",
        "    :param eos_ix: integer index of end-of-sentence token\n",
        "    :returns: lengths, int32 vector of shape [batch]\n",
        "    \"\"\"\n",
        "    axis = 0 if time_major else 1\n",
        "    is_eos = tf.cast(tf.equal(seq, eos_ix), dtype)\n",
        "    count_eos = tf.cumsum(is_eos, axis=axis, exclusive=True)\n",
        "    lengths = tf.reduce_sum(tf.cast(tf.equal(count_eos, 0), dtype), axis=axis)\n",
        "    return lengths\n",
        "\n",
        "\n",
        "def infer_mask(seq, eos_ix, time_major=False, dtype=tf.float32):\n",
        "    \"\"\"\n",
        "    compute mask given output indices and eos code\n",
        "    :param seq: tf matrix [time,batch] if time_major else [batch,time]\n",
        "    :param eos_ix: integer index of end-of-sentence token\n",
        "    :returns: mask, float32 matrix with '0's and '1's of same shape as seq\n",
        "    \"\"\"\n",
        "    axis = 0 if time_major else 1\n",
        "    lengths = infer_length(seq, eos_ix, time_major=time_major)\n",
        "    mask = tf.sequence_mask(lengths, maxlen=tf.shape(seq)[axis], dtype=dtype)\n",
        "    if time_major:\n",
        "        mask = tf.transpose(mask)\n",
        "    return mask\n",
        "\n",
        "\n",
        "def select_values_over_last_axis(values, indices):\n",
        "    \"\"\"\n",
        "    Auxiliary function to select logits corresponding to chosen tokens.\n",
        "    :param values: logits for all actions: float32[batch,tick,action]\n",
        "    :param indices: action ids int32[batch,tick]\n",
        "    :returns: values selected for the given actions: float[batch,tick]\n",
        "    \"\"\"\n",
        "    assert values.shape.ndims == 3 and indices.shape.ndims == 2\n",
        "    batch_size, seq_len = tf.shape(indices)[0], tf.shape(indices)[1]\n",
        "    batch_i = tf.tile(tf.range(0, batch_size)[:, None], [1, seq_len])\n",
        "    time_i = tf.tile(tf.range(0, seq_len)[None, :], [batch_size, 1])\n",
        "    indices_nd = tf.stack([batch_i, time_i, indices], axis=-1)\n",
        "\n",
        "    return tf.gather_nd(values, indices_nd)"
      ],
      "execution_count": 11,
      "outputs": [
        {
          "output_type": "stream",
          "text": [
            "Using TensorFlow backend.\n"
          ],
          "name": "stderr"
        }
      ]
    },
    {
      "cell_type": "code",
      "metadata": {
        "id": "UuPIj2-TmvA9",
        "colab_type": "code",
        "colab": {}
      },
      "source": [
        "#from basic_model_tf import BasicTranslationModel\n",
        "model = BasicTranslationModel('model',inp_voc,out_voc,\n",
        "                              emb_size=64, hid_size=128)"
      ],
      "execution_count": null,
      "outputs": []
    },
    {
      "cell_type": "code",
      "metadata": {
        "id": "6EEM2kfDPvNF",
        "colab_type": "code",
        "colab": {}
      },
      "source": [
        "s.run(tf.global_variables_initializer())"
      ],
      "execution_count": null,
      "outputs": []
    },
    {
      "cell_type": "code",
      "metadata": {
        "scrolled": true,
        "id": "vhMIEztvmvBC",
        "colab_type": "code",
        "colab": {}
      },
      "source": [
        "# Play around with symbolic_translate and symbolic_score\n",
        "inp = tf.placeholder_with_default(np.random.randint(0,10,[3,5],dtype='int32'),[None,None])\n",
        "out = tf.placeholder_with_default(np.random.randint(0,10,[3,5],dtype='int32'),[None,None])\n",
        "\n",
        "# translate inp (with untrained model)\n",
        "sampled_out, logp = out,model.symbolic_translate(inp, greedy=False)\n",
        "print(\"\\nSymbolic_translate output:\\n\",out,logp)\n",
        "print(\"\\nSample translations:\\n\", s.run(sampled_out))"
      ],
      "execution_count": null,
      "outputs": []
    },
    {
      "cell_type": "code",
      "metadata": {
        "id": "DekvxuRUmvBH",
        "colab_type": "code",
        "colab": {}
      },
      "source": [
        "# score logp(out | inp) with untrained input\n",
        "logp = model.symbolic_score(inp,out)\n",
        "print(\"\\nSymbolic_score output:\\n\",logp)\n",
        "print(\"\\nLog-probabilities (clipped):\\n\", s.run(logp)[:,:2,:5])"
      ],
      "execution_count": null,
      "outputs": []
    },
    {
      "cell_type": "code",
      "metadata": {
        "id": "0vVJlBuKmvBR",
        "colab_type": "code",
        "colab": {}
      },
      "source": [
        "# Prepare any operations you want here\n",
        "input_sequence = tf.placeholder('int32', [None,None])\n",
        "# greedy_translations, logp = <build symbolic translations with greedy=True>\n",
        "greedy_translations, logp = model.symbolic_translate(input_sequence, greedy=True)\n",
        "\n",
        "def translate(lines):\n",
        "    \"\"\"\n",
        "    You are given a list of input lines. \n",
        "    Make your neural network translate them.\n",
        "    :return: a list of output lines\n",
        "    \"\"\"\n",
        "    # Convert lines to a matrix of indices\n",
        "#     lines_ix = <YOUR CODE>\n",
        "    lines_ix = inp_voc.to_matrix(lines)\n",
        "\n",
        "    # Compute translations in form of indices\n",
        "#     trans_ix = s.run(greedy_translations, {<YOUR CODE - feed dict>})\n",
        "    trans_ix = s.run(greedy_translations, {input_sequence: lines_ix})\n",
        "\n",
        "    # Convert translations back into strings\n",
        "    return out_voc.to_lines(trans_ix)\n",
        "    "
      ],
      "execution_count": null,
      "outputs": []
    },
    {
      "cell_type": "code",
      "metadata": {
        "id": "b-LoY7sPmvBb",
        "colab_type": "code",
        "colab": {}
      },
      "source": [
        "print(\"Sample inputs:\",all_words[:3])\n",
        "print(\"Dummy translations:\",translate(all_words[:3]))\n",
        "\n",
        "assert isinstance(greedy_translations,tf.Tensor) and greedy_translations.dtype.is_integer, \"trans must be a tensor of integers (token ids)\"\n",
        "assert translate(all_words[:3]) == translate(all_words[:3]), \"make sure translation is deterministic (use greedy=True and disable any noise layers)\"\n",
        "assert type(translate(all_words[:3])) is list and (type(translate(all_words[:1])[0]) is str or type(translate(all_words[:1])[0]) is unicode), \"translate(lines) must return a sequence of strings!\"\n",
        "print(\"Tests passed!\")"
      ],
      "execution_count": null,
      "outputs": []
    },
    {
      "cell_type": "markdown",
      "metadata": {
        "id": "pynVwwJnmvBh",
        "colab_type": "text"
      },
      "source": [
        "### Scoring function\n",
        "\n",
        "LogLikelihood is a poor estimator of model performance.\n",
        "* If we predict zero probability once, it shouldn't ruin entire model.\n",
        "* It is enough to learn just one translation if there are several correct ones.\n",
        "* What matters is how many mistakes model's gonna make when it translates!\n",
        "\n",
        "Therefore, we will use minimal Levenshtein distance. It measures how many characters do we need to add/remove/replace from model translation to make it perfect. Alternatively, one could use character-level BLEU/RougeL or other similar metrics.\n",
        "\n",
        "The catch here is that Levenshtein distance is not differentiable: it isn't even continuous. We can't train our neural network to maximize it by gradient descent."
      ]
    },
    {
      "cell_type": "code",
      "metadata": {
        "id": "OrUzO2m9mvBi",
        "colab_type": "code",
        "colab": {}
      },
      "source": [
        "import editdistance # !pip install editdistance\n",
        "\n",
        "def get_distance(word,trans):\n",
        "    \"\"\"\n",
        "    A function that takes word and predicted translation\n",
        "    and evaluates (Levenshtein's) edit distance to closest correct translation\n",
        "    \"\"\"\n",
        "    references = word_to_translation[word]\n",
        "    assert len(references)!=0,\"wrong/unknown word\"\n",
        "    return min(editdistance.eval(trans,ref) for ref in references)\n",
        "\n",
        "def score(words, bsize=100):\n",
        "    \"\"\"a function that computes levenshtein distance for bsize random samples\"\"\"\n",
        "    assert isinstance(words,np.ndarray)\n",
        "    \n",
        "    batch_words = np.random.choice(words,size=bsize,replace=False)\n",
        "    batch_trans = translate(batch_words)\n",
        "    \n",
        "    distances = list(map(get_distance,batch_words,batch_trans))\n",
        "    \n",
        "    return np.array(distances,dtype='float32')"
      ],
      "execution_count": null,
      "outputs": []
    },
    {
      "cell_type": "code",
      "metadata": {
        "id": "X2sQQKHQmvBn",
        "colab_type": "code",
        "colab": {},
        "outputId": "a57b5fb7-aacd-4933-bed9-7c2d58b8f9fa"
      },
      "source": [
        "#should be around 5-50 and decrease rapidly after training :)\n",
        "[score(test_words,10).mean() for _ in range(5)]"
      ],
      "execution_count": null,
      "outputs": [
        {
          "output_type": "execute_result",
          "data": {
            "text/plain": [
              "[35.7, 35.9, 43.8, 29.8, 33.6]"
            ]
          },
          "metadata": {
            "tags": []
          },
          "execution_count": 18
        }
      ]
    },
    {
      "cell_type": "markdown",
      "metadata": {
        "id": "twYzw0icmvBr",
        "colab_type": "text"
      },
      "source": [
        "## Step 2: Supervised pre-training\n",
        "\n",
        "Here we define a function that trains our model through maximizing log-likelihood a.k.a. minimizing crossentropy."
      ]
    },
    {
      "cell_type": "code",
      "metadata": {
        "id": "opJrxsr-mvBs",
        "colab_type": "code",
        "colab": {}
      },
      "source": [
        "# import utility functions\n",
        "from basic_model_tf import initialize_uninitialized, infer_length, infer_mask, select_values_over_last_axis\n",
        "\n",
        "class supervised_training:\n",
        "\n",
        "    # variable for inputs and correct answers\n",
        "    input_sequence = tf.placeholder('int32',[None,None])\n",
        "    reference_answers = tf.placeholder('int32',[None,None])\n",
        "    \n",
        "    # Compute log-probabilities of all possible tokens at each step. Use model interface.\n",
        "#     logprobs_seq = <YOUR CODE>\n",
        "    logprobs_seq = model.symbolic_score(input_sequence, reference_answers)\n",
        "    \n",
        "    # compute mean crossentropy\n",
        "    crossentropy = - select_values_over_last_axis(logprobs_seq,reference_answers)\n",
        "    \n",
        "    mask = infer_mask(reference_answers, out_voc.eos_ix)\n",
        "    \n",
        "    loss = tf.reduce_sum(crossentropy * mask)/tf.reduce_sum(mask)\n",
        "    \n",
        "    # Build weights optimizer. Use model.weights to get all trainable params.\n",
        "    train_step = model.weights\n",
        "    \n",
        "    \n",
        "# intialize optimizer params while keeping model intact\n",
        "initialize_uninitialized(s)"
      ],
      "execution_count": null,
      "outputs": []
    },
    {
      "cell_type": "markdown",
      "metadata": {
        "id": "3lhKw3uamvBw",
        "colab_type": "text"
      },
      "source": [
        "Actually run training on minibatches"
      ]
    },
    {
      "cell_type": "code",
      "metadata": {
        "id": "vtw89MeEmvBx",
        "colab_type": "code",
        "colab": {}
      },
      "source": [
        "import random\n",
        "def sample_batch(words, word_to_translation, batch_size):\n",
        "    \"\"\"\n",
        "    sample random batch of words and random correct translation for each word\n",
        "    example usage:\n",
        "    batch_x,batch_y = sample_batch(train_words, word_to_translations,10)\n",
        "    \"\"\"\n",
        "    #choose words\n",
        "    batch_words = np.random.choice(words,size=batch_size)\n",
        "    \n",
        "    #choose translations\n",
        "    batch_trans_candidates = list(map(word_to_translation.get,batch_words))\n",
        "    batch_trans = list(map(random.choice,batch_trans_candidates))\n",
        "    \n",
        "    return inp_voc.to_matrix(batch_words), out_voc.to_matrix(batch_trans)"
      ],
      "execution_count": null,
      "outputs": []
    },
    {
      "cell_type": "code",
      "metadata": {
        "id": "Yb00QkYtmvB1",
        "colab_type": "code",
        "colab": {},
        "outputId": "456740db-d815-4497-a975-9c9ddac54333"
      },
      "source": [
        "bx,by = sample_batch(train_words, word_to_translation, batch_size=3)\n",
        "print(\"Source:\")\n",
        "print(bx)\n",
        "print(\"Target:\")\n",
        "print(by)"
      ],
      "execution_count": null,
      "outputs": [
        {
          "output_type": "stream",
          "text": [
            "Source:\n",
            "[[  0  35  54  93 148  21  35  93   1   1   1   1   1   1   1]\n",
            " [  0 114  93  80  21  21  74 114 148 125 108  21  23 173   1]\n",
            " [  0  80  21  21 178 108 167  21  93 188 143   1   1   1   1]]\n",
            "Target:\n",
            "[[  0  97 161 145 271 138  97  56 145   1   1   1   1   1   1   1   1   1]\n",
            " [  0 176  56 145 152  56 138 108 176 271  55 148 138 176 119  56   4   1]\n",
            " [  0 152  56 138  57  56 148 107 138 145 144 119  56 148   1   1   1   1]]\n"
          ],
          "name": "stdout"
        }
      ]
    },
    {
      "cell_type": "code",
      "metadata": {
        "scrolled": false,
        "id": "TnHAzJ1umvB8",
        "colab_type": "code",
        "colab": {},
        "outputId": "f5cf97c2-14a4-4f9f-e4c9-669e9977d330"
      },
      "source": [
        "from IPython.display import clear_output\n",
        "from tqdm import tqdm,trange #or use tqdm_notebook,tnrange\n",
        "\n",
        "loss_history=[]\n",
        "editdist_history = []\n",
        "\n",
        "for i in trange(25000):\n",
        "    bx,by = sample_batch(train_words, word_to_translation, 32)\n",
        "    \n",
        "    feed_dict = {\n",
        "        supervised_training.input_sequence:bx,\n",
        "        supervised_training.reference_answers:by\n",
        "    }\n",
        "    \n",
        "    loss,_ = s.run([supervised_training.loss,supervised_training.train_step],feed_dict)\n",
        "    loss_history.append(loss)\n",
        "    \n",
        "    if (i+1)%REPORT_FREQ==0:\n",
        "        clear_output(True)\n",
        "        current_scores = score(test_words)\n",
        "        editdist_history.append(current_scores.mean())\n",
        "        plt.figure(figsize=(12,4))\n",
        "        plt.subplot(131)\n",
        "        plt.title('train loss / traning time')\n",
        "        plt.plot(loss_history)\n",
        "        plt.grid()\n",
        "        plt.subplot(132)\n",
        "        plt.title('val score distribution')\n",
        "        plt.hist(current_scores, bins = 20)\n",
        "        plt.subplot(133)\n",
        "        plt.title('val score / traning time')\n",
        "        plt.plot(editdist_history)\n",
        "        plt.grid()\n",
        "        plt.show()\n",
        "        print(\"llh=%.3f, mean score=%.3f\"%(np.mean(loss_history[-10:]),np.mean(editdist_history[-10:])))\n",
        "        \n",
        "# Note: it's okay if loss oscillates up and down as long as it gets better on average over long term (e.g. 5k batches)"
      ],
      "execution_count": null,
      "outputs": [
        {
          "output_type": "display_data",
          "data": {
            "image/png": "[encoded data removed]",
            "text/plain": [
              "<Figure size 864x288 with 3 Axes>"
            ]
          },
          "metadata": {
            "tags": []
          }
        },
        {
          "output_type": "stream",
          "text": [
            "\r100%|██████████| 25000/25000 [26:58<00:00, 15.45it/s]"
          ],
          "name": "stderr"
        },
        {
          "output_type": "stream",
          "text": [
            "llh=5.231, mean score=42.654\n"
          ],
          "name": "stdout"
        },
        {
          "output_type": "stream",
          "text": [
            "\n"
          ],
          "name": "stderr"
        }
      ]
    },
    {
      "cell_type": "code",
      "metadata": {
        "id": "jNznEWlPmvB_",
        "colab_type": "code",
        "colab": {},
        "outputId": "ba33fc90-7aaa-44f3-cf81-35248a5a8c24"
      },
      "source": [
        "for word in train_words[:10]:\n",
        "    print(\"%s -> %s\"%(word,translate([word])[0]))"
      ],
      "execution_count": null,
      "outputs": [
        {
          "output_type": "stream",
          "text": [
            "מגילת המקדש -> þþạạصęņππŋņŋŋpņpķ?êêêảảrảr\n",
            "תבנית:user ady ->  ,דèèללxņďτīpķ''' 老老ףééééé$$$$œ°\n",
            "קטגוריה:שליטי איראן -> jźḥاםצצרfנш7íssלננộș星ộșいṃứåï'' 老老老ףéééééé$\n",
            "קרב אום-כתף -> þþþųصęņąąρרėŋŋņŋععņ?םצצננш\n",
            "קנאבידיול -> @șккккứû'' çéééŭöŭëמŭמ\n",
            "סקיילרק 1 -> ďħīâ\"ńらら′′チチב&&&ʻららḳ榎榎\n",
            "קטגוריה:המטבח הדני -> þþصąąρרėŋŋņŋŋ仙仙仙*••ø…?………♭…♭……t……ōōōааů.\n",
            "פרנצ'סקו מורוזיני -> ,דèèυëļțŋ仙仙ïḥ仙ïïа::ævסס$老老老°榎榎榎榎վěěووو\n",
            "sysrq -> j$$œ$œ$œ御守守פפפ\n",
            "רביע אבו-ח'ליל -> jűככåכộșåộș→ï→ïvvū`````ąąąąąρė-_\n"
          ],
          "name": "stdout"
        }
      ]
    },
    {
      "cell_type": "code",
      "metadata": {
        "id": "BUwqllN_mvCD",
        "colab_type": "code",
        "colab": {},
        "outputId": "cca4bb7b-03bf-4cff-f740-b03c28d34e68"
      },
      "source": [
        "test_scores = []\n",
        "for start_i in trange(0,len(test_words),32):\n",
        "    batch_words = test_words[start_i:start_i+32]\n",
        "    batch_trans = translate(batch_words)\n",
        "    distances = list(map(get_distance,batch_words,batch_trans))\n",
        "    test_scores.extend(distances)\n",
        "    \n",
        "print(\"Supervised test score:\",np.mean(test_scores))"
      ],
      "execution_count": null,
      "outputs": [
        {
          "output_type": "stream",
          "text": [
            "100%|██████████| 407/407 [00:36<00:00, 11.17it/s]"
          ],
          "name": "stderr"
        },
        {
          "output_type": "stream",
          "text": [
            "Supervised test score: 41.44697202582232\n"
          ],
          "name": "stdout"
        },
        {
          "output_type": "stream",
          "text": [
            "\n"
          ],
          "name": "stderr"
        }
      ]
    },
    {
      "cell_type": "markdown",
      "metadata": {
        "id": "vos_-cmJmvCH",
        "colab_type": "text"
      },
      "source": [
        "## Preparing for reinforcement learning\n",
        "\n",
        "First we need to define loss function as a custom tf operation.\n",
        "\n",
        "The simple way to do so is through `tensorflow.py_func` wrapper.\n",
        "```\n",
        "def my_func(x):\n",
        "  # x will be a numpy array with the contents of the placeholder below\n",
        "  return np.sinh(x)\n",
        "inp = tf.placeholder(tf.float32)\n",
        "y = tf.py_func(my_func, [inp], tf.float32)\n",
        "```\n",
        "\n",
        "\n",
        "__Your task__ is to implement `_compute_levenshtein` function that takes matrices of words and translations, along with input masks, then converts those to actual words and phonemes and computes min-levenshtein via __get_distance__ function above.\n"
      ]
    },
    {
      "cell_type": "code",
      "metadata": {
        "id": "NnvSrkNImvCH",
        "colab_type": "code",
        "colab": {}
      },
      "source": [
        "def _compute_levenshtein(words_ix,trans_ix):\n",
        "    \"\"\"\n",
        "    A custom tensorflow operation that computes levenshtein loss for predicted trans.\n",
        "    \n",
        "    Params:\n",
        "    - words_ix - a matrix of letter indices, shape=[batch_size,word_length]\n",
        "    - words_mask - a matrix of zeros/ones, \n",
        "       1 means \"word is still not finished\"\n",
        "       0 means \"word has already finished and this is padding\"\n",
        "    \n",
        "    - trans_mask - a matrix of output letter indices, shape=[batch_size,translation_length]\n",
        "    - trans_mask - a matrix of zeros/ones, similar to words_mask but for trans_ix\n",
        "    \n",
        "    \n",
        "    Please implement the function and make sure it passes tests from the next cell.\n",
        "    \n",
        "    \"\"\"\n",
        "    \n",
        "    #convert words to strings\n",
        "#     words = <restore words (a list of strings) from words_ix. Use vocab>\n",
        "    words = inp_voc.to_lines(words_ix)\n",
        "\n",
        "    assert type(words) is list and type(words[0]) is str and len(words)==len(words_ix)\n",
        "    \n",
        "    #convert translations to lists\n",
        "#     translations = <restore trans (a list of lists of phonemes) from trans_ix\n",
        "    translations = out_voc.to_lines(trans_ix)\n",
        "\n",
        "    assert type(translations) is list and type(translations[0]) is str and len(translations)==len(trans_ix)\n",
        "\n",
        "    #computes levenstein distances. can be arbitrary python code.\n",
        "#     distances = <apply get_distance to each pair of [words,translations]>\n",
        "    distances = [get_distance(words[i], translations[i]) for i in range(len(words))]\n",
        "    \n",
        "    assert type(distances) in (list,tuple,np.ndarray) and len(distances) == len(words_ix)\n",
        "    \n",
        "    distances = np.array(list(distances),dtype='float32')\n",
        "    return distances\n",
        "\n",
        "def compute_levenshtein(words_ix,trans_ix):\n",
        "    out = tf.py_func(_compute_levenshtein,[words_ix,trans_ix,],tf.float32)\n",
        "    out.set_shape([None])\n",
        "    \n",
        "    return tf.stop_gradient(out)"
      ],
      "execution_count": null,
      "outputs": []
    },
    {
      "cell_type": "markdown",
      "metadata": {
        "id": "3BF1_xbamvCN",
        "colab_type": "text"
      },
      "source": [
        "Simple test suite to make sure your implementation is correct. Hint: if you run into any bugs, feel free to use print from inside _compute_levenshtein."
      ]
    },
    {
      "cell_type": "code",
      "metadata": {
        "id": "kOHtzZNbmvCO",
        "colab_type": "code",
        "colab": {}
      },
      "source": [
        "#test suite\n",
        "#sample random batch of (words, correct trans, wrong trans)\n",
        "batch_words = np.random.choice(train_words, size=100 )\n",
        "batch_trans = list(map(random.choice,map(word_to_translation.get,batch_words )))\n",
        "batch_trans_wrong = np.random.choice(all_translations,size=100)\n",
        "\n",
        "batch_words_ix = tf.constant(inp_voc.to_matrix(batch_words))\n",
        "batch_trans_ix = tf.constant(out_voc.to_matrix(batch_trans))\n",
        "batch_trans_wrong_ix = tf.constant(out_voc.to_matrix(batch_trans_wrong))"
      ],
      "execution_count": null,
      "outputs": []
    },
    {
      "cell_type": "code",
      "metadata": {
        "id": "vlhVuplCmvCV",
        "colab_type": "code",
        "colab": {},
        "outputId": "a63ad6e8-c64f-4664-810f-cf0f8434d8cd"
      },
      "source": [
        "#assert compute_levenshtein is zero for ideal translations\n",
        "correct_answers_score = compute_levenshtein(batch_words_ix ,batch_trans_ix).eval()\n",
        "\n",
        "assert np.all(correct_answers_score==0),\"a perfect translation got nonzero levenshtein score!\"\n",
        "\n",
        "print(\"Everything seems alright!\")"
      ],
      "execution_count": null,
      "outputs": [
        {
          "output_type": "stream",
          "text": [
            "Everything seems alright!\n"
          ],
          "name": "stdout"
        }
      ]
    },
    {
      "cell_type": "code",
      "metadata": {
        "id": "MVVZdT0PmvCa",
        "colab_type": "code",
        "colab": {},
        "outputId": "df99772a-8003-4a65-cb93-c62d7b5f3c4d"
      },
      "source": [
        "#assert compute_levenshtein matches actual scoring function\n",
        "wrong_answers_score = compute_levenshtein(batch_words_ix,batch_trans_wrong_ix).eval()\n",
        "\n",
        "true_wrong_answers_score = np.array(list(map(get_distance,batch_words,batch_trans_wrong)))\n",
        "\n",
        "assert np.all(wrong_answers_score==true_wrong_answers_score),\"for some word symbolic levenshtein is different from actual levenshtein distance\"\n",
        "\n",
        "print(\"Everything seems alright!\")"
      ],
      "execution_count": null,
      "outputs": [
        {
          "output_type": "stream",
          "text": [
            "Everything seems alright!\n"
          ],
          "name": "stdout"
        }
      ]
    },
    {
      "cell_type": "markdown",
      "metadata": {
        "id": "GV3ZI9upmvCe",
        "colab_type": "text"
      },
      "source": [
        "Once you got it working...\n",
        "\n",
        "\n",
        "* You may now want to __remove/comment asserts__ from function code for a slight speed-up.\n",
        "\n",
        "* There's a more detailed tutorial on custom tensorflow ops: [`py_func`](https://www.tensorflow.org/api_docs/python/tf/py_func), [`low-level`](https://www.tensorflow.org/api_docs/python/tf/py_func)."
      ]
    },
    {
      "cell_type": "markdown",
      "metadata": {
        "id": "QwspygDVmvCf",
        "colab_type": "text"
      },
      "source": [
        "## 3. Self-critical policy gradient\n",
        "\n",
        "In this section you'll implement algorithm called self-critical sequence training (here's an [article](https://arxiv.org/abs/1612.00563)).\n",
        "\n",
        "The algorithm is a vanilla policy gradient with a special baseline. \n",
        "\n",
        "$$ \\nabla J = E_{x \\sim p(s)} E_{y \\sim \\pi(y|x)} \\nabla log \\pi(y|x) \\cdot (R(x,y) - b(x)) $$\n",
        "\n",
        "Here reward R(x,y) is a __negative levenshtein distance__ (since we minimize it). The baseline __b(x)__ represents how well model fares on word __x__.\n",
        "\n",
        "In practice, this means that we compute baseline as a score of greedy translation, $b(x) = R(x,y_{greedy}(x)) $.\n",
        "\n",
        "Luckily, we already obtained the required outputs: `model.greedy_translations, model.greedy_mask` and we only need to compute levenshtein using `compute_levenshtein` function.\n"
      ]
    },
    {
      "cell_type": "code",
      "metadata": {
        "id": "p7EXiREGmvCf",
        "colab_type": "code",
        "colab": {}
      },
      "source": [
        "class trainer:    \n",
        "    \n",
        "    input_sequence = tf.placeholder('int32',[None,None])\n",
        "    \n",
        "    # use model to __sample__ symbolic translations given input_sequence\n",
        "#     sample_translations, sample_logp = <YOUR CODE>\n",
        "    sample_translations, sample_logp = model.symbolic_translate(input_sequence, greedy=False)\n",
        "    # use model to __greedy__ symbolic translations given input_sequence\n",
        "#     greedy_translations, greedy_logp = <YOUR CODE>\n",
        "    greedy_translations, greedy_logp = model.symbolic_translate(input_sequence, greedy=True)\n",
        "    \n",
        "    rewards = - compute_levenshtein(input_sequence, sample_translations)\n",
        "    \n",
        "    # compute __negative__ levenshtein for greedy mode\n",
        "    baseline = - compute_levenshtein(input_sequence, greedy_translations)\n",
        "    \n",
        "    # compute advantage using rewards and baseline\n",
        "    advantage = rewards - baseline\n",
        "    assert advantage.shape.ndims ==1, \"advantage must be of shape [batch_size]\"\n",
        "    \n",
        "    # compute log_pi(a_t|s_t), shape = [batch, seq_length]\n",
        "    logprobs_phoneme = select_values_over_last_axis(sample_logp, sample_translations)\n",
        "    \n",
        "    # Compute policy gradient\n",
        "    # or rather surrogate function who's gradient is policy gradient\n",
        "    J = logprobs_phoneme*advantage[:,None]\n",
        "    \n",
        "    mask = infer_mask(sample_translations,out_voc.eos_ix)\n",
        "    loss = - tf.reduce_sum(J*mask) / tf.reduce_sum(mask)\n",
        "    \n",
        "    # regularize with negative entropy. Don't forget the sign!\n",
        "    # note: for entropy you need probabilities for all tokens (sample_logp), not just phoneme_logprobs\n",
        "#     entropy = <compute entropy matrix of shape [batch,seq_length], H=-sum(p*log_p), don't forget the sign!>\n",
        "    entropy = - tf.reduce_sum(tf.exp(sample_logp)*sample_logp, axis=-1)\n",
        "    \n",
        "    assert entropy.shape.ndims == 2, \"please make sure elementwise entropy is of shape [batch,time]\"\n",
        "\n",
        "    loss -= 0.01*tf.reduce_sum(entropy*mask) / tf.reduce_sum(mask)\n",
        "    \n",
        "    # compute weight updates, clip by norm\n",
        "    grads = tf.gradients(loss,model.weights)\n",
        "    grads = tf.clip_by_global_norm(grads,50)[0]\n",
        "\n",
        "    train_step = tf.train.AdamOptimizer(learning_rate=1e-5).apply_gradients(zip(grads, model.weights,))\n",
        "    \n",
        "    \n",
        "    \n",
        "initialize_uninitialized()"
      ],
      "execution_count": null,
      "outputs": []
    },
    {
      "cell_type": "markdown",
      "metadata": {
        "id": "GRh_ULwhmvCj",
        "colab_type": "text"
      },
      "source": [
        "# Policy gradient training\n"
      ]
    },
    {
      "cell_type": "code",
      "metadata": {
        "scrolled": false,
        "id": "9UBf0w_1mvCk",
        "colab_type": "code",
        "colab": {},
        "outputId": "4de02af4-5975-4b00-fc7d-2351ed458a8c"
      },
      "source": [
        "for i in trange(100000):\n",
        "    bx = sample_batch(train_words,word_to_translation,32)[0]\n",
        "    pseudo_loss,_ = s.run([trainer.loss, trainer.train_step],{trainer.input_sequence:bx})\n",
        "    \n",
        "    loss_history.append(\n",
        "        pseudo_loss\n",
        "        )\n",
        "    \n",
        "    if (i+1)%REPORT_FREQ==0:\n",
        "        clear_output(True)\n",
        "        current_scores = score(test_words)\n",
        "        editdist_history.append(current_scores.mean())\n",
        "        plt.figure(figsize=(8,4))\n",
        "        plt.subplot(121)\n",
        "        plt.title('val score distribution')\n",
        "        plt.hist(current_scores, bins = 20)\n",
        "        plt.subplot(122)\n",
        "        plt.title('val score / traning time')\n",
        "        plt.plot(editdist_history)\n",
        "        plt.grid()\n",
        "        plt.show()\n",
        "        print(\"J=%.3f, mean score=%.3f\"%(np.mean(loss_history[-10:]),np.mean(editdist_history[-10:])))"
      ],
      "execution_count": null,
      "outputs": [
        {
          "output_type": "display_data",
          "data": {
            "image/png": "[encoded data removed]",
            "text/plain": [
              "<Figure size 576x288 with 2 Axes>"
            ]
          },
          "metadata": {
            "tags": []
          }
        },
        {
          "output_type": "stream",
          "text": [
            "\r100%|██████████| 100000/100000 [5:58:19<00:00,  4.65it/s]"
          ],
          "name": "stderr"
        },
        {
          "output_type": "stream",
          "text": [
            "J=-0.028, mean score=9.116\n"
          ],
          "name": "stdout"
        },
        {
          "output_type": "stream",
          "text": [
            "\n"
          ],
          "name": "stderr"
        }
      ]
    },
    {
      "cell_type": "code",
      "metadata": {
        "id": "SuAp1nZnmvCp",
        "colab_type": "code",
        "colab": {}
      },
      "source": [
        "model.translate(\"EXAMPLE;\")"
      ],
      "execution_count": null,
      "outputs": []
    },
    {
      "cell_type": "markdown",
      "metadata": {
        "id": "UuLYMHnymvCx",
        "colab_type": "text"
      },
      "source": [
        "### Results"
      ]
    },
    {
      "cell_type": "code",
      "metadata": {
        "id": "CZLTZhhdmvCy",
        "colab_type": "code",
        "colab": {},
        "outputId": "1362d98f-44c3-46e5-cd5c-d868689ad210"
      },
      "source": [
        "for word in train_words[:10]:\n",
        "    print(\"%s -> %s\"%(word,translate([word])[0]))"
      ],
      "execution_count": null,
      "outputs": [
        {
          "output_type": "stream",
          "text": [
            "מגילת המקדש -> aie aie\n",
            "תבנית:user ady -> aie aie\n",
            "קטגוריה:שליטי איראן -> aie aiea\n",
            "קרב אום-כתף -> aie aie\n",
            "קנאבידיול -> aie aie\n",
            "סקיילרק 1 -> aie aie\n",
            "קטגוריה:המטבח הדני -> aie aie\n",
            "פרנצ'סקו מורוזיני -> aie a aie\n",
            "sysrq -> aie\n",
            "רביע אבו-ח'ליל -> aie a aie\n"
          ],
          "name": "stdout"
        }
      ]
    },
    {
      "cell_type": "code",
      "metadata": {
        "scrolled": true,
        "id": "LaZU8W0AmvC3",
        "colab_type": "code",
        "colab": {}
      },
      "source": [
        "test_scores = []\n",
        "for start_i in trange(0,len(test_words),32):\n",
        "    batch_words = test_words[start_i:start_i+32]\n",
        "    batch_trans = translate(batch_words)\n",
        "    distances = list(map(get_distance,batch_words,batch_trans))\n",
        "    test_scores.extend(distances)\n",
        "print(\"Supervised test score:\",np.mean(test_scores))\n",
        "\n",
        "# ^^ If you get Out Of Memory, please replace this with batched computation"
      ],
      "execution_count": null,
      "outputs": []
    },
    {
      "cell_type": "markdown",
      "metadata": {
        "id": "_OChRLvNmvC8",
        "colab_type": "text"
      },
      "source": [
        "### Grader"
      ]
    },
    {
      "cell_type": "code",
      "metadata": {
        "id": "arh1g8k9mvC9",
        "colab_type": "code",
        "colab": {}
      },
      "source": [
        "assert np.mean(test_scores) < 8\n",
        "#TODO scitator pls add coursera grader"
      ],
      "execution_count": null,
      "outputs": []
    },
    {
      "cell_type": "markdown",
      "metadata": {
        "id": "N4t7ZuRhmvDB",
        "colab_type": "text"
      },
      "source": [
        "## More\n",
        "\n",
        "If you finished early and want more adventures for your computation time, __restart with EASY_MODE=False__ and experiment to find a good model/curriculum for that task.\n",
        "\n",
        "We recommend to start with the following architecture\n",
        "\n",
        "```\n",
        "encoder---decoder\n",
        "\n",
        "           P(y|h)\n",
        "             ^\n",
        " LSTM  ->   LSTM\n",
        "  ^          ^\n",
        " LSTM  ->   LSTM\n",
        "  ^          ^\n",
        "input       y_prev\n",
        "```\n",
        "\n",
        "__Note:__ you can fit all 4 state tensors of both LSTMs into a in a single state - just assume that it contains, for example, [h0, c0, h1, c1] - pack it in encode and update in decode.\n",
        "\n",
        "\n",
        "Here are some cool ideas on what you can do then.\n",
        "\n",
        "__General tips & tricks:__\n",
        "* In some tensorflow versions and for some layers, it is required that each rnn/gru/lstm cell gets it's own `tf.variable_scope(unique_name, reuse=False)`.\n",
        "  * Otherwise it will complain about wrong tensor sizes because it tries to reuse weights from one rnn to the other.\n",
        "* You will likely need to adjust pre-training time for such a network.\n",
        "* Supervised pre-training may benefit from clipping gradients somehow.\n",
        "* SCST may indulge a higher learning rate in some cases and changing entropy regularizer over time.\n",
        "* It's often useful to save pre-trained model parameters to not re-train it every time you want new policy gradient parameters. \n",
        "* When leaving training for nighttime, try setting REPORT_FREQ to a larger value (e.g. 500) not to waste time on it.\n",
        "\n",
        "\n",
        "### Attention\n",
        "There's more than one way to connect decoder to encoder\n",
        "  * __Vanilla:__ layer_i of encoder last state goes to layer_i of decoder initial state\n",
        "  * __Every tick:__ feed encoder last state _on every iteration_ of decoder.\n",
        "  * __Attention:__ allow decoder to \"peek\" at one (or several) positions of encoded sequence on every tick.\n",
        "  \n",
        "The most effective (and cool) of those is, of course, attention.\n",
        "You can read more about attention [in this nice blog post](https://distill.pub/2016/augmented-rnns/). The easiest way to begin is to use \"soft\" attention with \"additive\" or \"dot-product\" intermediate layers.\n",
        "\n",
        "__Tips__\n",
        "* Model usually generalizes better if you no longer allow decoder to see final encoder state\n",
        "* Once your model made it through several epochs, it is a good idea to visualize attention maps to understand what your model has actually learned\n",
        "* If you opted for hard attention, we recommend gumbel-softmax instead of sampling\n",
        "\n",
        "### UREX\n",
        "* This is a way to improve exploration in policy-based settings. The main idea is that you find and upweight under-appreciated actions.\n",
        "* Here's [video](https://www.youtube.com/watch?v=fZNyHoXgV7M&feature=youtu.be&t=3444)\n",
        " and an [article](https://arxiv.org/abs/1611.09321).\n",
        "* You may want to reduce batch size 'cuz UREX requires you to sample multiple times per source sentence.\n",
        "* Once you got it working, try using experience replay with importance sampling instead of (in addition to) basic UREX.\n",
        "\n",
        "### Some additional ideas:\n",
        "* (advanced deep learning) It may be a good idea to first train on small phrases and then adapt to larger ones (a.k.a. training curriculum).\n",
        "* (advanced nlp) You may want to switch from raw utf8 to something like unicode or even syllables to make task easier.\n",
        "* (advanced nlp) Since hebrew words are written __with vowels omitted__, you may want to use a small Hebrew vowel markup dataset at `he-pron-wiktionary.txt`."
      ]
    },
    {
      "cell_type": "markdown",
      "metadata": {
        "id": "EPIaa80xmvDC",
        "colab_type": "text"
      },
      "source": [
        "__Contributions:__ This notebook is brought to you by\n",
        "* Yandex [MT team](https://tech.yandex.com/translate/)\n",
        "* Denis Mazur ([DeniskaMazur](https://github.com/DeniskaMazur)), Oleg Vasilev ([Omrigan](https://github.com/Omrigan/)), Dmitry Emelyanenko ([TixFeniks](https://github.com/tixfeniks)) and Fedor Ratnikov ([justheuristic](https://github.com/justheuristic/))\n",
        "* Dataset is parsed from [Wiktionary](https://en.wiktionary.org), which is under CC-BY-SA and GFDL licenses.\n"
      ]
    }
  ]
}